{
 "cells": [
  {
   "cell_type": "markdown",
   "metadata": {},
   "source": [
    "### Boston Housing Price Dataset\n",
    "\n",
    "Contains 506 datapoints split into 404 training and 102 testing set. There are a total of 13 features.\n",
    "\n",
    "Each feature in the input data has different scale. Some between 0 and 1, and some between 0 and 100. \n"
   ]
  },
  {
   "cell_type": "code",
   "execution_count": 1,
   "metadata": {},
   "outputs": [
    {
     "name": "stderr",
     "output_type": "stream",
     "text": [
      "Using TensorFlow backend.\n"
     ]
    }
   ],
   "source": [
    "### Loading the Boston Dataset\n",
    "from keras.datasets import boston_housing"
   ]
  },
  {
   "cell_type": "code",
   "execution_count": 2,
   "metadata": {},
   "outputs": [],
   "source": [
    "(train_data, train_targets),(test_data, test_targets) = boston_housing.load_data()"
   ]
  },
  {
   "cell_type": "code",
   "execution_count": 3,
   "metadata": {},
   "outputs": [
    {
     "data": {
      "text/plain": [
       "array([  1.23247,   0.     ,   8.14   ,   0.     ,   0.538  ,   6.142  ,\n",
       "        91.7    ,   3.9769 ,   4.     , 307.     ,  21.     , 396.9    ,\n",
       "        18.72   ])"
      ]
     },
     "execution_count": 3,
     "metadata": {},
     "output_type": "execute_result"
    }
   ],
   "source": [
    "train_data[0]"
   ]
  },
  {
   "cell_type": "code",
   "execution_count": 4,
   "metadata": {},
   "outputs": [
    {
     "data": {
      "text/plain": [
       "15.2"
      ]
     },
     "execution_count": 4,
     "metadata": {},
     "output_type": "execute_result"
    }
   ],
   "source": [
    "train_targets[0]"
   ]
  },
  {
   "cell_type": "code",
   "execution_count": 5,
   "metadata": {},
   "outputs": [
    {
     "data": {
      "text/plain": [
       "(404, 13)"
      ]
     },
     "execution_count": 5,
     "metadata": {},
     "output_type": "execute_result"
    }
   ],
   "source": [
    "train_data.shape"
   ]
  },
  {
   "cell_type": "code",
   "execution_count": 6,
   "metadata": {},
   "outputs": [
    {
     "data": {
      "text/plain": [
       "(102, 13)"
      ]
     },
     "execution_count": 6,
     "metadata": {},
     "output_type": "execute_result"
    }
   ],
   "source": [
    "test_data.shape"
   ]
  },
  {
   "cell_type": "markdown",
   "metadata": {},
   "source": [
    "### Data Normalization\n",
    "\n",
    "In such scenarios the data normalization is an important step which needs to be done.  There is a chance that that the network might be able to learn the things on its own but providing the normalized features centered around 0 and standard deviation of 1 would mean that all the features are equally weighted by the network. "
   ]
  },
  {
   "cell_type": "code",
   "execution_count": 7,
   "metadata": {},
   "outputs": [],
   "source": [
    "mean = train_data.mean(axis=0)\n",
    "train_data -= mean\n",
    "std = train_data.std(axis=0)\n",
    "train_data /= std\n",
    "\n",
    "## The normalization used for the training data is used for testing data\n",
    "test_data -= mean\n",
    "test_data /= std"
   ]
  },
  {
   "cell_type": "code",
   "execution_count": 8,
   "metadata": {},
   "outputs": [],
   "source": [
    "from keras import models\n",
    "from keras import layers"
   ]
  },
  {
   "cell_type": "code",
   "execution_count": 9,
   "metadata": {},
   "outputs": [],
   "source": [
    "def build_model():\n",
    "    model = models.Sequential()\n",
    "    model.add(layers.Dense(64, activation='relu', input_shape=(train_data.shape[1],)))\n",
    "    model.add(layers.Dense(64, activation='relu'))\n",
    "    model.add(layers.Dense(1))\n",
    "    \n",
    "    model.compile(optimizer='rmsprop',\n",
    "                 loss = 'mse',\n",
    "                 metrics = ['mae'])\n",
    "    return model"
   ]
  },
  {
   "cell_type": "markdown",
   "metadata": {},
   "source": [
    "### K FOLD VALIDATION\n",
    "In K fold validation we just pass the validation split to the network. The network then splits the data into k folds, and starts the training. The model trains the data on the k-1 folds and validates the model on kth fold. The fold on which the validation is done keeps getting switched after every cycle. \n",
    "\n",
    "The final validation score is the average after finding the score on each partition scheme. \n",
    "\n",
    "\n",
    "There is one more validation data splitting scheme very commonly used i.e. **Iterated K-fold validation with shuffling**. Here the data is shuffled after every K fold evaluation is complete and again split into K folds. This technique is very helpful in evaluating models when the amount of data available is very less and you need to precisely evaluate your model."
   ]
  },
  {
   "cell_type": "code",
   "execution_count": 20,
   "metadata": {},
   "outputs": [],
   "source": [
    "import numpy as np \n",
    "\n",
    "k = 4\n",
    "num_val_samples = len(train_data)//k\n",
    "num_epochs = 100\n",
    "all_mae_histories = []"
   ]
  },
  {
   "cell_type": "code",
   "execution_count": 21,
   "metadata": {},
   "outputs": [
    {
     "name": "stdout",
     "output_type": "stream",
     "text": [
      "Processing Fold # 0\n",
      "Processing Fold # 1\n",
      "Processing Fold # 2\n",
      "Processing Fold # 3\n"
     ]
    }
   ],
   "source": [
    "for i in range(k):\n",
    "    print('Processing Fold #', i)\n",
    "    val_data = train_data[i*num_val_samples:(i+1)*num_val_samples]\n",
    "    val_targets = train_targets[i*num_val_samples:(i+1)*num_val_samples]\n",
    "    \n",
    "    partial_train_data = np.concatenate(\n",
    "                                    [train_data[:i*num_val_samples], \n",
    "                                    train_data[(i+1)*num_val_samples:]],\n",
    "                                    axis = 0)\n",
    "    \n",
    "    partial_train_targets = np.concatenate(\n",
    "                                    [train_targets[:i*num_val_samples], \n",
    "                                    train_targets[(i+1)*num_val_samples:]],\n",
    "                                    axis = 0)\n",
    "    model = build_model()\n",
    "    history = model.fit(partial_train_data, partial_train_targets,\n",
    "                 epochs = num_epochs, batch_size = 1, verbose = 0 ,\n",
    "                 validation_data=(val_data, val_targets))\n",
    "    mae_history = history.history['val_mean_absolute_error']\n",
    "    all_mae_histories.append(mae_history)"
   ]
  },
  {
   "cell_type": "code",
   "execution_count": 22,
   "metadata": {},
   "outputs": [
    {
     "data": {
      "text/plain": [
       "[[3.4155176087181167,\n",
       "  2.8060954632145343,\n",
       "  2.526140222455015,\n",
       "  2.339759628371437,\n",
       "  2.31197719762821,\n",
       "  2.178991704884142,\n",
       "  2.006418775803972,\n",
       "  2.0465903801493126,\n",
       "  1.918407374089307,\n",
       "  1.970560848122776,\n",
       "  2.0488645629127427,\n",
       "  2.468671430455576,\n",
       "  2.2562886606348624,\n",
       "  1.964969531144246,\n",
       "  1.9537301110749197,\n",
       "  2.0781503054175046,\n",
       "  2.0913199717455573,\n",
       "  2.2159198912063447,\n",
       "  1.9948792315945767,\n",
       "  2.0858654692621514,\n",
       "  1.9105875374066947,\n",
       "  1.9292453350407062,\n",
       "  2.1495599463434503,\n",
       "  2.124776235901483,\n",
       "  1.8859047370381874,\n",
       "  1.8011981661957088,\n",
       "  1.8891146631524114,\n",
       "  1.8962530239973918,\n",
       "  2.130609578425341,\n",
       "  1.907161807069684,\n",
       "  1.925456122596665,\n",
       "  2.140247127797344,\n",
       "  2.0594680616171055,\n",
       "  2.5982905850552096,\n",
       "  2.0197136095254726,\n",
       "  2.0114219873258383,\n",
       "  1.740453819237133,\n",
       "  1.7907333468446638,\n",
       "  2.380397041245262,\n",
       "  2.44533913678462,\n",
       "  1.7850127645058207,\n",
       "  2.131897520310808,\n",
       "  1.8889001242005,\n",
       "  1.823414151031192,\n",
       "  1.817434013480007,\n",
       "  2.252242569876189,\n",
       "  1.902346120022311,\n",
       "  1.8403271212436185,\n",
       "  2.0382688966127906,\n",
       "  1.9556272997714506,\n",
       "  2.5234572769391654,\n",
       "  2.0929574399891466,\n",
       "  2.2229601888373347,\n",
       "  1.8839817802504737,\n",
       "  2.206696600016981,\n",
       "  1.71346114885689,\n",
       "  2.6062633778789257,\n",
       "  1.9618467198740137,\n",
       "  2.1641549969663716,\n",
       "  2.437916264675631,\n",
       "  1.9751740304550323,\n",
       "  1.974032978020092,\n",
       "  2.1009263614616773,\n",
       "  2.135359745214481,\n",
       "  1.958731481344393,\n",
       "  1.8567338697981126,\n",
       "  2.0000551431485922,\n",
       "  2.379891489992047,\n",
       "  1.8813743827366594,\n",
       "  1.7523123911111662,\n",
       "  2.4606549385750647,\n",
       "  2.129272687553179,\n",
       "  2.0222161547972424,\n",
       "  2.31394358908776,\n",
       "  2.1274709559903284,\n",
       "  2.0704756113562253,\n",
       "  2.0229679617551293,\n",
       "  2.012537399140915,\n",
       "  2.014472753694742,\n",
       "  1.9256534387569617,\n",
       "  1.8004477047684169,\n",
       "  2.096253687792485,\n",
       "  1.8345318926442968,\n",
       "  1.9415954363228072,\n",
       "  2.2129487802486607,\n",
       "  2.223397160520648,\n",
       "  2.087591832227046,\n",
       "  1.8853039458246514,\n",
       "  2.0516282733124083,\n",
       "  2.124634804111896,\n",
       "  1.8129382322330285,\n",
       "  2.2216073593290724,\n",
       "  2.044185704523974,\n",
       "  2.2449383310752338,\n",
       "  2.145313059929574,\n",
       "  1.8910707341562403,\n",
       "  1.8287051927925337,\n",
       "  2.245850062606358,\n",
       "  1.9952537328890054,\n",
       "  2.437172478968554],\n",
       " [3.783171549882039,\n",
       "  3.1790119586604657,\n",
       "  2.8442843220021463,\n",
       "  2.6816216176099115,\n",
       "  2.7438496929584164,\n",
       "  2.811811064729596,\n",
       "  2.8425420723339117,\n",
       "  2.6564510033862425,\n",
       "  2.6039613544350804,\n",
       "  2.7472954976676713,\n",
       "  2.5432760927936817,\n",
       "  2.8905966777612666,\n",
       "  2.6665138678975624,\n",
       "  2.5773033009897364,\n",
       "  2.466089895456144,\n",
       "  2.516794997866791,\n",
       "  2.549861478333426,\n",
       "  2.5669263849164,\n",
       "  2.3963829928105422,\n",
       "  2.8456602946366414,\n",
       "  2.522660685057687,\n",
       "  2.473827909715105,\n",
       "  2.411156196405392,\n",
       "  2.370229395309297,\n",
       "  2.488617575994813,\n",
       "  2.4144811346979425,\n",
       "  2.4348373413085938,\n",
       "  2.329007162906156,\n",
       "  2.3833786898320266,\n",
       "  2.300247404835012,\n",
       "  2.5111022703718433,\n",
       "  2.3638357880091903,\n",
       "  2.4205190686896296,\n",
       "  2.474403258597497,\n",
       "  2.4304766607756663,\n",
       "  2.252278984183132,\n",
       "  2.348705499479086,\n",
       "  2.464887236604596,\n",
       "  2.3876052327675397,\n",
       "  2.3212689881277555,\n",
       "  2.3251001527993984,\n",
       "  2.196376913844949,\n",
       "  2.339916833556525,\n",
       "  2.323349697755115,\n",
       "  2.23399016408637,\n",
       "  2.633127741294332,\n",
       "  2.2773193888144916,\n",
       "  2.2353431777198716,\n",
       "  2.314390999255794,\n",
       "  2.2358495787818833,\n",
       "  2.3889586004880394,\n",
       "  2.146692431799256,\n",
       "  2.56481662599167,\n",
       "  2.383089565994716,\n",
       "  2.5190365196454643,\n",
       "  2.557589318492625,\n",
       "  2.619211763438612,\n",
       "  2.3062960889079784,\n",
       "  2.320713666406008,\n",
       "  2.4035353896641496,\n",
       "  2.454341170811417,\n",
       "  2.38869574990603,\n",
       "  2.3107149577376864,\n",
       "  2.2797736177350036,\n",
       "  2.353956675765538,\n",
       "  2.390292724760452,\n",
       "  2.367344341655769,\n",
       "  2.2393787214071446,\n",
       "  2.3372223731314783,\n",
       "  2.340063184794813,\n",
       "  2.462154728351253,\n",
       "  2.3455968611311206,\n",
       "  2.6863950880447236,\n",
       "  2.331946165254801,\n",
       "  2.407297205216814,\n",
       "  2.510663910667495,\n",
       "  2.5193064047558473,\n",
       "  2.4195767770899406,\n",
       "  3.778965751723488,\n",
       "  2.580824276008228,\n",
       "  2.3499173881983992,\n",
       "  2.814672555073653,\n",
       "  2.3451086082080805,\n",
       "  2.562368468482896,\n",
       "  2.46772029612324,\n",
       "  2.39851975677037,\n",
       "  2.94105867820211,\n",
       "  2.4742682995182452,\n",
       "  2.4887272249353996,\n",
       "  2.630215087739548,\n",
       "  2.842674500871413,\n",
       "  2.4867451639458684,\n",
       "  2.742972695001281,\n",
       "  2.4662123104133227,\n",
       "  2.576574174484404,\n",
       "  2.4732620503642773,\n",
       "  2.946858925394493,\n",
       "  2.3162819796269485,\n",
       "  2.5023064330072686,\n",
       "  2.6392699043349466],\n",
       " [4.316962006068466,\n",
       "  3.416144805379433,\n",
       "  3.013141329925839,\n",
       "  2.7917137618112093,\n",
       "  2.734115383412578,\n",
       "  2.6905827239008233,\n",
       "  2.7334876438178637,\n",
       "  2.880855744427974,\n",
       "  2.5628980598827398,\n",
       "  2.536694356710604,\n",
       "  2.615985969505688,\n",
       "  2.580653167006993,\n",
       "  2.553557551733338,\n",
       "  2.7189439499732293,\n",
       "  2.4726488047307082,\n",
       "  2.5650490250917946,\n",
       "  2.5178656436429163,\n",
       "  2.7526267684332213,\n",
       "  2.4951168947880813,\n",
       "  2.4607258787249573,\n",
       "  2.533993381084782,\n",
       "  2.6102726813590174,\n",
       "  2.6837800658575377,\n",
       "  2.538539485176011,\n",
       "  2.515922688021518,\n",
       "  2.6594097118566533,\n",
       "  2.4400564609187665,\n",
       "  2.572051392923487,\n",
       "  2.375070826842053,\n",
       "  2.550087239482615,\n",
       "  2.7407235249434367,\n",
       "  2.4856229631027373,\n",
       "  2.6737035807996694,\n",
       "  2.9503156831949062,\n",
       "  2.540982137812246,\n",
       "  2.5909281437939935,\n",
       "  2.7308345549177417,\n",
       "  2.5116133170552772,\n",
       "  2.795445772680906,\n",
       "  2.4956923853052726,\n",
       "  2.4736748497084817,\n",
       "  2.5777250327686274,\n",
       "  2.5464664638632595,\n",
       "  2.468977215266464,\n",
       "  2.546304173988871,\n",
       "  2.642295601344345,\n",
       "  2.765952497425646,\n",
       "  2.3931363313504965,\n",
       "  2.578733170386588,\n",
       "  2.7395219708433247,\n",
       "  2.5699774676030227,\n",
       "  2.584349537839984,\n",
       "  2.54374365759368,\n",
       "  2.5735249755406144,\n",
       "  2.4856112640683015,\n",
       "  2.701691254530803,\n",
       "  2.6343585335382143,\n",
       "  2.569363206920057,\n",
       "  2.593952263935958,\n",
       "  2.651193165543056,\n",
       "  2.7110766797962755,\n",
       "  2.756394962273022,\n",
       "  2.4992539103668516,\n",
       "  2.6814058275506047,\n",
       "  2.582935625963872,\n",
       "  2.539082970949683,\n",
       "  2.6400609913438853,\n",
       "  2.5157676215219027,\n",
       "  2.5653741383316495,\n",
       "  2.646122450875764,\n",
       "  2.611796464070235,\n",
       "  2.492009918288429,\n",
       "  2.4942892046258,\n",
       "  2.484104052628621,\n",
       "  2.6669673447561735,\n",
       "  2.58801804438676,\n",
       "  2.4824673917033886,\n",
       "  2.6985447383162997,\n",
       "  2.45110560879849,\n",
       "  2.6307377531976983,\n",
       "  2.4232710186797792,\n",
       "  3.0996382543356114,\n",
       "  2.6681761741638184,\n",
       "  2.6064097338383743,\n",
       "  2.6447770288675136,\n",
       "  2.631966217909709,\n",
       "  2.5939003122915136,\n",
       "  2.628496203092065,\n",
       "  2.599510372275173,\n",
       "  2.632256810027774,\n",
       "  2.5126116016123556,\n",
       "  3.0987884502599736,\n",
       "  2.8251858088049557,\n",
       "  2.499384039699441,\n",
       "  2.9310094578431385,\n",
       "  2.7226761024777253,\n",
       "  2.5160123995035,\n",
       "  2.5646588495462246,\n",
       "  2.534248399262381,\n",
       "  2.784270971128256],\n",
       " [5.463574192311504,\n",
       "  3.8377771188717076,\n",
       "  3.2437187987979095,\n",
       "  3.003175962089312,\n",
       "  3.04372499484827,\n",
       "  3.158395361192156,\n",
       "  2.932061960201452,\n",
       "  2.8416547397575758,\n",
       "  2.7359788724691563,\n",
       "  2.6979732796697333,\n",
       "  2.7639316804338208,\n",
       "  2.555846686410432,\n",
       "  2.6894166682026173,\n",
       "  2.6912274219021937,\n",
       "  2.5552355794623347,\n",
       "  2.768739719202023,\n",
       "  2.5116674121063536,\n",
       "  2.641093121896876,\n",
       "  2.77945615277432,\n",
       "  2.492831872241332,\n",
       "  2.5610886375502786,\n",
       "  2.5518157364118217,\n",
       "  2.5797207331893466,\n",
       "  2.434393250116027,\n",
       "  2.436808208427807,\n",
       "  2.432304627824538,\n",
       "  2.471445111945124,\n",
       "  2.5987644101133442,\n",
       "  2.4884200237765173,\n",
       "  2.476434287458363,\n",
       "  2.8624198460342862,\n",
       "  2.473125353898152,\n",
       "  2.4752870219768863,\n",
       "  2.8824344861625444,\n",
       "  2.430003081217851,\n",
       "  2.386677657023515,\n",
       "  2.5109249152759516,\n",
       "  2.3768989071987643,\n",
       "  2.609879564530779,\n",
       "  2.590672573240677,\n",
       "  2.5158843238755026,\n",
       "  2.4533105982412207,\n",
       "  2.4116211504039198,\n",
       "  2.4610099886903667,\n",
       "  2.3551928831799196,\n",
       "  2.5076420000284023,\n",
       "  2.6159884103453988,\n",
       "  2.5412646709102216,\n",
       "  2.561615783389252,\n",
       "  2.443772849470082,\n",
       "  2.5618670057542254,\n",
       "  2.3781181562064897,\n",
       "  2.5180178632830628,\n",
       "  2.447010068610163,\n",
       "  2.430723346105897,\n",
       "  2.4717941614660885,\n",
       "  2.579244387031782,\n",
       "  2.4263574203642286,\n",
       "  2.4094191730612575,\n",
       "  2.5104712731767407,\n",
       "  2.4202322062879507,\n",
       "  2.418372428063119,\n",
       "  2.706984246131217,\n",
       "  3.2790961312775564,\n",
       "  2.4134982836128462,\n",
       "  2.4657477718768734,\n",
       "  2.640643242562171,\n",
       "  2.373066203428967,\n",
       "  2.9196126201365256,\n",
       "  2.5004377176265904,\n",
       "  2.315503158191643,\n",
       "  2.3706113985269375,\n",
       "  2.4535545405775014,\n",
       "  2.5565391908777824,\n",
       "  2.4108690790610736,\n",
       "  2.3612644129460403,\n",
       "  2.454679243635423,\n",
       "  2.5472198901790204,\n",
       "  2.4845165214916265,\n",
       "  2.669331408963345,\n",
       "  2.449418275663168,\n",
       "  2.6096832067659586,\n",
       "  2.5644270169852983,\n",
       "  2.3571855148466505,\n",
       "  2.4601870999477877,\n",
       "  2.4233700402892464,\n",
       "  2.515682409305384,\n",
       "  2.428127416289679,\n",
       "  2.539934252748395,\n",
       "  2.398305789078816,\n",
       "  2.3561243916502095,\n",
       "  2.6065433709928305,\n",
       "  2.709978434118894,\n",
       "  2.3513948988206317,\n",
       "  2.477021075711392,\n",
       "  2.3756718116231483,\n",
       "  2.355264720350209,\n",
       "  2.3965845580148226,\n",
       "  2.480023190526679,\n",
       "  2.353285610085667]]"
      ]
     },
     "execution_count": 22,
     "metadata": {},
     "output_type": "execute_result"
    }
   ],
   "source": [
    "all_mae_histories"
   ]
  },
  {
   "cell_type": "code",
   "execution_count": 23,
   "metadata": {},
   "outputs": [],
   "source": [
    "average_mae_history = [np.mean([x[i] for x in all_mae_histories]) for i in range(num_epochs)]"
   ]
  },
  {
   "cell_type": "code",
   "execution_count": 24,
   "metadata": {},
   "outputs": [],
   "source": [
    "%matplotlib inline\n",
    "import matplotlib.pyplot as plt"
   ]
  },
  {
   "cell_type": "code",
   "execution_count": 25,
   "metadata": {},
   "outputs": [
    {
     "data": {
      "image/png": "[encoded data removed]",
      "text/plain": [
       "<Figure size 432x288 with 1 Axes>"
      ]
     },
     "metadata": {
      "needs_background": "light"
     },
     "output_type": "display_data"
    }
   ],
   "source": [
    "plt.plot(range(1,len(average_mae_history)+1), average_mae_history)\n",
    "\n",
    "plt.xlabel('Epochs')\n",
    "plt.ylabel('Validation MAE')\n",
    "\n",
    "\n",
    "plt.show()"
   ]
  },
  {
   "cell_type": "code",
   "execution_count": 26,
   "metadata": {},
   "outputs": [
    {
     "name": "stdout",
     "output_type": "stream",
     "text": [
      "102/102 [==============================] - 0s 41us/step\n"
     ]
    }
   ],
   "source": [
    "test_mse_score, test_mae_score = model.evaluate(test_data, test_targets)"
   ]
  },
  {
   "cell_type": "code",
   "execution_count": 27,
   "metadata": {},
   "outputs": [
    {
     "data": {
      "text/plain": [
       "18.43705285764208"
      ]
     },
     "execution_count": 27,
     "metadata": {},
     "output_type": "execute_result"
    }
   ],
   "source": [
    "test_mse_score"
   ]
  },
  {
   "cell_type": "code",
   "execution_count": 28,
   "metadata": {},
   "outputs": [
    {
     "data": {
      "text/plain": [
       "2.886988088196399"
      ]
     },
     "execution_count": 28,
     "metadata": {},
     "output_type": "execute_result"
    }
   ],
   "source": [
    "test_mae_score"
   ]
  },
  {
   "cell_type": "code",
   "execution_count": null,
   "metadata": {},
   "outputs": [],
   "source": []
  }
 ],
 "metadata": {
  "kernelspec": {
   "display_name": "Python 3",
   "language": "python",
   "name": "python3"
  },
  "language_info": {
   "codemirror_mode": {
    "name": "ipython",
    "version": 3
   },
   "file_extension": ".py",
   "mimetype": "text/x-python",
   "name": "python",
   "nbconvert_exporter": "python",
   "pygments_lexer": "ipython3",
   "version": "3.6.7"
  }
 },
 "nbformat": 4,
 "nbformat_minor": 2
}

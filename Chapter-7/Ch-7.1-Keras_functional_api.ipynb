{
 "cells": [
  {
   "cell_type": "markdown",
   "metadata": {},
   "source": [
    "------\n",
    "\n",
    "### Keras Funtional API\n",
    "\n",
    "------\n",
    "\n",
    "Keras functional API helps create Graph like models just like python functions. Keras callbacks and tensorboard allows us to monitor the performance of the model and use functions like Earlystopping whenever necessary. \n",
    "\n",
    "The chapter also discusses the important research in deep learning like batch normalization layers, residual networks, hyperparamter adjustments, and ensemble modelling.\n",
    "\n",
    "\n",
    "Until now all the models which have been discussed have been Sequential. The sequential models are simple single input, single output models. Here we will discuss special models which might have multiple inputs or multiple outputs. Some might have data coming from different sources and it might need to merge the data.(Multimodal inputs). \n",
    "\n",
    "Example, consider a scenario where we have to predict cost of an item given some text, meta data, and an image. Training three different models does not make sense. So here what can be done is that The three models can be merged using a merging module and even this merging module would get trained. \n",
    "\n",
    "Also, there are a lot of architectures like Google Inception architecture which requires several parallel branches whose outputs are merged into a single tensor. \n",
    "\n",
    "Also, there is a ResNet architecture which involves reinjecting of previous information in downstream flow by adding the past output tensor to later output tensor. These architectures will be discussed in great depth later. Skip if you don't understand the connection now. \n",
    "\n",
    "---------------------------\n",
    "\n",
    "With functional API the layers can be esentially be trated as functions. Each layer taking a tensor and returning a tensor. "
   ]
  },
  {
   "cell_type": "markdown",
   "metadata": {},
   "source": [
    "--------\n",
    "\n",
    "***Multi-input models***\n",
    "\n",
    "\n",
    "---------\n",
    "\n"
   ]
  },
  {
   "cell_type": "code",
   "execution_count": null,
   "metadata": {},
   "outputs": [],
   "source": []
  }
 ],
 "metadata": {
  "kernelspec": {
   "display_name": "Python 3",
   "language": "python",
   "name": "python3"
  },
  "language_info": {
   "codemirror_mode": {
    "name": "ipython",
    "version": 3
   },
   "file_extension": ".py",
   "mimetype": "text/x-python",
   "name": "python",
   "nbconvert_exporter": "python",
   "pygments_lexer": "ipython3",
   "version": "3.6.7"
  }
 },
 "nbformat": 4,
 "nbformat_minor": 2
}

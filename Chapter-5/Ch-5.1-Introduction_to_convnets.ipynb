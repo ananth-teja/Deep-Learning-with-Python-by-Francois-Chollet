{
 "cells": [
  {
   "cell_type": "markdown",
   "metadata": {},
   "source": [
    "### Basics of Convnets using MNIST Dataset\n",
    "\n",
    "The basic two building blocks of the Convolutional Neural Networks in Kera are the Conv2D and MaxPooling2D layers. \n",
    "Their uses are clear from their names. Here we will go through a basic code to understand the dimensionality of inputs, parameters and their effect."
   ]
  },
  {
   "cell_type": "code",
   "execution_count": 1,
   "metadata": {},
   "outputs": [
    {
     "name": "stderr",
     "output_type": "stream",
     "text": [
      "Using TensorFlow backend.\n"
     ]
    }
   ],
   "source": [
    "### Instantiating a small Convnet\n",
    "\n",
    "from keras import layers \n",
    "from keras import models\n",
    "\n",
    "model = models.Sequential()\n",
    "model.add(layers.Conv2D(32, (3,3), activation = 'relu', input_shape=(28,28,1)))\n",
    "model.add(layers.MaxPooling2D((2,2)))\n",
    "model.add(layers.Conv2D(64, (3,3), activation = 'relu'))\n",
    "model.add(layers.MaxPooling2D((2,2)))\n",
    "model.add(layers.Conv2D(64, (3,3), activation = 'relu'))"
   ]
  },
  {
   "cell_type": "code",
   "execution_count": 2,
   "metadata": {},
   "outputs": [
    {
     "name": "stdout",
     "output_type": "stream",
     "text": [
      "_________________________________________________________________\n",
      "Layer (type)                 Output Shape              Param #   \n",
      "=================================================================\n",
      "conv2d_1 (Conv2D)            (None, 26, 26, 32)        320       \n",
      "_________________________________________________________________\n",
      "max_pooling2d_1 (MaxPooling2 (None, 13, 13, 32)        0         \n",
      "_________________________________________________________________\n",
      "conv2d_2 (Conv2D)            (None, 11, 11, 64)        18496     \n",
      "_________________________________________________________________\n",
      "max_pooling2d_2 (MaxPooling2 (None, 5, 5, 64)          0         \n",
      "_________________________________________________________________\n",
      "conv2d_3 (Conv2D)            (None, 3, 3, 64)          36928     \n",
      "=================================================================\n",
      "Total params: 55,744\n",
      "Trainable params: 55,744\n",
      "Non-trainable params: 0\n",
      "_________________________________________________________________\n"
     ]
    }
   ],
   "source": [
    "model.summary()"
   ]
  },
  {
   "cell_type": "markdown",
   "metadata": {},
   "source": [
    "***Flattening the output is done once the Convolution operations have been performed so that the features extracted by the COnv layers can be fed to the Dense layers for Classification***"
   ]
  },
  {
   "cell_type": "code",
   "execution_count": 3,
   "metadata": {},
   "outputs": [],
   "source": [
    "model.add(layers.Flatten())\n",
    "model.add(layers.Dense(64,activation='relu'))\n",
    "model.add(layers.Dense(10, activation = 'softmax'))"
   ]
  },
  {
   "cell_type": "code",
   "execution_count": 4,
   "metadata": {},
   "outputs": [
    {
     "name": "stdout",
     "output_type": "stream",
     "text": [
      "_________________________________________________________________\n",
      "Layer (type)                 Output Shape              Param #   \n",
      "=================================================================\n",
      "conv2d_1 (Conv2D)            (None, 26, 26, 32)        320       \n",
      "_________________________________________________________________\n",
      "max_pooling2d_1 (MaxPooling2 (None, 13, 13, 32)        0         \n",
      "_________________________________________________________________\n",
      "conv2d_2 (Conv2D)            (None, 11, 11, 64)        18496     \n",
      "_________________________________________________________________\n",
      "max_pooling2d_2 (MaxPooling2 (None, 5, 5, 64)          0         \n",
      "_________________________________________________________________\n",
      "conv2d_3 (Conv2D)            (None, 3, 3, 64)          36928     \n",
      "_________________________________________________________________\n",
      "flatten_1 (Flatten)          (None, 576)               0         \n",
      "_________________________________________________________________\n",
      "dense_1 (Dense)              (None, 64)                36928     \n",
      "_________________________________________________________________\n",
      "dense_2 (Dense)              (None, 10)                650       \n",
      "=================================================================\n",
      "Total params: 93,322\n",
      "Trainable params: 93,322\n",
      "Non-trainable params: 0\n",
      "_________________________________________________________________\n"
     ]
    }
   ],
   "source": [
    "model.summary()"
   ]
  },
  {
   "cell_type": "code",
   "execution_count": 5,
   "metadata": {},
   "outputs": [],
   "source": [
    "model.compile(optimizer = 'rmsprop',\n",
    "             loss = 'categorical_crossentropy',\n",
    "             metrics = ['accuracy'])"
   ]
  },
  {
   "cell_type": "code",
   "execution_count": 6,
   "metadata": {},
   "outputs": [],
   "source": [
    "### Training the Convnets for MNIST Images\n",
    "\n",
    "from keras.datasets import mnist\n",
    "from keras.utils import to_categorical\n",
    "(train_images, train_labels), (test_images, test_labels) = mnist.load_data()"
   ]
  },
  {
   "cell_type": "code",
   "execution_count": 7,
   "metadata": {},
   "outputs": [],
   "source": [
    "train_images = train_images.reshape((60000,28,28,1))\n",
    "train_images = train_images.astype('float32')/255\n",
    "\n",
    "test_images = test_images.reshape((10000,28,28,1))\n",
    "test_images = test_images.astype('float32')/255\n",
    "\n",
    "train_labels = to_categorical(train_labels)\n",
    "test_labels = to_categorical(test_labels)"
   ]
  },
  {
   "cell_type": "code",
   "execution_count": 8,
   "metadata": {},
   "outputs": [
    {
     "data": {
      "text/plain": [
       "(60000, 28, 28, 1)"
      ]
     },
     "execution_count": 8,
     "metadata": {},
     "output_type": "execute_result"
    }
   ],
   "source": [
    "train_images.shape"
   ]
  },
  {
   "cell_type": "code",
   "execution_count": 9,
   "metadata": {},
   "outputs": [
    {
     "data": {
      "text/plain": [
       "(10000, 28, 28, 1)"
      ]
     },
     "execution_count": 9,
     "metadata": {},
     "output_type": "execute_result"
    }
   ],
   "source": [
    "test_images.shape"
   ]
  },
  {
   "cell_type": "code",
   "execution_count": 10,
   "metadata": {},
   "outputs": [
    {
     "data": {
      "text/plain": [
       "(60000, 10)"
      ]
     },
     "execution_count": 10,
     "metadata": {},
     "output_type": "execute_result"
    }
   ],
   "source": [
    "train_labels.shape"
   ]
  },
  {
   "cell_type": "code",
   "execution_count": 11,
   "metadata": {},
   "outputs": [
    {
     "data": {
      "text/plain": [
       "(10000, 10)"
      ]
     },
     "execution_count": 11,
     "metadata": {},
     "output_type": "execute_result"
    }
   ],
   "source": [
    "test_labels.shape"
   ]
  },
  {
   "cell_type": "code",
   "execution_count": 12,
   "metadata": {},
   "outputs": [
    {
     "name": "stdout",
     "output_type": "stream",
     "text": [
      "Epoch 1/5\n",
      "60000/60000 [==============================] - 4s 74us/step - loss: 0.1798 - acc: 0.9440\n",
      "Epoch 2/5\n",
      "60000/60000 [==============================] - 3s 54us/step - loss: 0.0461 - acc: 0.9855\n",
      "Epoch 3/5\n",
      "60000/60000 [==============================] - 3s 53us/step - loss: 0.0317 - acc: 0.9900\n",
      "Epoch 4/5\n",
      "60000/60000 [==============================] - 3s 55us/step - loss: 0.0258 - acc: 0.9925\n",
      "Epoch 5/5\n",
      "60000/60000 [==============================] - 3s 51us/step - loss: 0.0195 - acc: 0.9942\n"
     ]
    }
   ],
   "source": [
    "history = model.fit(train_images, train_labels, epochs = 5, batch_size = 64)"
   ]
  },
  {
   "cell_type": "code",
   "execution_count": 13,
   "metadata": {},
   "outputs": [
    {
     "data": {
      "text/plain": [
       "{'loss': [0.1797563841022551,\n",
       "  0.04606188074344148,\n",
       "  0.031680704064775876,\n",
       "  0.025791971720304962,\n",
       "  0.019475687615196996],\n",
       " 'acc': [0.9440333333333333,\n",
       "  0.9855333333333334,\n",
       "  0.9899666666666667,\n",
       "  0.9925333333333334,\n",
       "  0.9942]}"
      ]
     },
     "execution_count": 13,
     "metadata": {},
     "output_type": "execute_result"
    }
   ],
   "source": [
    "history.history"
   ]
  },
  {
   "cell_type": "code",
   "execution_count": 14,
   "metadata": {},
   "outputs": [
    {
     "name": "stdout",
     "output_type": "stream",
     "text": [
      "10000/10000 [==============================] - 0s 40us/step\n"
     ]
    }
   ],
   "source": [
    "test_loss, test_acc = model.evaluate(test_images, test_labels)"
   ]
  },
  {
   "cell_type": "code",
   "execution_count": 15,
   "metadata": {},
   "outputs": [
    {
     "data": {
      "text/plain": [
       "0.028868993924045027"
      ]
     },
     "execution_count": 15,
     "metadata": {},
     "output_type": "execute_result"
    }
   ],
   "source": [
    "test_loss"
   ]
  },
  {
   "cell_type": "code",
   "execution_count": 16,
   "metadata": {},
   "outputs": [
    {
     "data": {
      "text/plain": [
       "0.9912"
      ]
     },
     "execution_count": 16,
     "metadata": {},
     "output_type": "execute_result"
    }
   ],
   "source": [
    "test_acc"
   ]
  },
  {
   "cell_type": "code",
   "execution_count": 17,
   "metadata": {},
   "outputs": [],
   "source": [
    "%matplotlib inline\n",
    "import matplotlib.pyplot as plt"
   ]
  },
  {
   "cell_type": "code",
   "execution_count": 19,
   "metadata": {},
   "outputs": [
    {
     "data": {
      "image/png": "[encoded data removed]",
      "text/plain": [
       "<Figure size 432x288 with 1 Axes>"
      ]
     },
     "metadata": {
      "needs_background": "light"
     },
     "output_type": "display_data"
    }
   ],
   "source": [
    "plt.plot(range(1,len(history.history['loss'])+1), history.history['loss'])\n",
    "\n",
    "plt.title('Training Loss')\n",
    "\n",
    "plt.xlabel('Epochs')\n",
    "plt.ylabel('Loss')\n",
    "plt.show()"
   ]
  },
  {
   "cell_type": "code",
   "execution_count": 20,
   "metadata": {},
   "outputs": [
    {
     "data": {
      "image/png": "[encoded data removed]",
      "text/plain": [
       "<Figure size 432x288 with 1 Axes>"
      ]
     },
     "metadata": {
      "needs_background": "light"
     },
     "output_type": "display_data"
    }
   ],
   "source": [
    "plt.plot(range(1,len(history.history['acc'])+1), history.history['acc'])\n",
    "\n",
    "plt.title('Training Accuracy')\n",
    "\n",
    "plt.xlabel('Epochs')\n",
    "plt.ylabel('Accuracy')\n",
    "plt.show()\n"
   ]
  },
  {
   "cell_type": "markdown",
   "metadata": {},
   "source": [
    "### Understanding the Convolution Operation\n",
    "\n",
    "- The major difference between the Dense layers and the convolution features is that the Dense layers features tries to capture the Global Inference from the image, whereas the Convolution is a operation where the Kernal is slided across the Image frame. So this also helps to capture the effect of the neighbouring pixels into the picture. Majority of the cases when we deal with image data, one of the most baisc things that the model needs to perform is capture the edge detection and figure out what kinds of edges does the image contains. This is done very well by the COnvolution operation by considering the neighbouring pixels. The model overtime will learn the Kernal in most optimum way to definee the images. \n",
    "\n",
    "\n",
    "The key characterstics the COnvolution operations add are - \n",
    "1. ***The patterns they learn are translation invarient** - After learning a certain pattern in some part of the image, the model will be able to recognize it anywhere in the image. This makes the Conv nets data efficient. This won't be done by simply connecting the Densely connected layers together. This also maps well to Image recognition problems as most of visual world is fundamentally translation invarient. \n",
    "\n",
    "2. ***They can learn spatial heirarchy of features*** - A first Convoliution layer will learn small local patterns such as ***edges*** and a second convolution layer on top of it will be able to learn larger patterns made by such edges. This allows the convnets to efficiently learn increasingly complexand abstract visual concepts. (as the visual world is also spatially heirarchial)  "
   ]
  },
  {
   "cell_type": "markdown",
   "metadata": {},
   "source": [
    "### Convolution, feature maps, and Dimensionality\n",
    "\n",
    "- Convolutions operate over 3D tensors, called **feature maps**, with two spatial axis(Height and Width) as well as depth axis(Number of channels). \n",
    "\n",
    "- The convolution operation can be defines as placing the keranl on top of image, multiplying the corresponding values and then moving the keranl until the entire image has been processed. When the operation by one kernal is done it produces what we can call as the output feature map. \n",
    "- Now consider the MNIST example for instance, there we have an input of size (28,28,1) and the first Convolution layer we have defined contains 32 filters. The 32 filters will each be convoluted with the all the channels of image. \n",
    "- **Associate the Conv2d with the size of the output dimension or the Kernal Dimension. Even though the input image might have multiple channels the output is going to be a 2D matrix**\n",
    "- So here we will have a output of size (26,26,32) as the number of channels is 1. If we would have had more channels in the input for example 3, the output would have been of dimensions (26,26,32). As the number of output filters is the user passed parameter. Now, to understand where the how an image of size (28,28) gets changed to (26,26) is very easy. For this 2 important terms will be introduced, one is **padding** and another is **stride**. \n",
    "- ***Padding*** - So, before applying the kernals to the image the image can be padded to conserve the effect of edges. So, usually the images are padded with floor(kernal/2) size. This can help us keep the dimensions of the output image same as the dimensions of the input image. But if not explicitely defined no zero padding is perfomed.\n",
    "\n",
    "```python\n",
    "padding = 'same'  ### Keeps the output dimesnions same as input dimensions\n",
    "padding = 'valid' ### Esentially means no padding. This is the default setting\n",
    "```\n",
    "\n",
    "- ***Stride*** - So when we first keep the kernal on top left corner of the image, then slide the kernal one pixel to the right until the Kernal runs out of the image. When this happens we move the kernal to the left starting point and one pixel down. We keep repeating this until we exit the image from the right bottom corner of the image. (It would help, if you try to visualize this operation). Now, the value by which we moved the kernal in either direction can be called as the Stride value. If not defined explicitely the Keras considers the stride value as 1. Stride parameter can be smartly used to reduce the dimensionality of the output image and reduce the number of parameters. As the the size of output will decreases drastically with increase in stride. THis also means a tradeoff between the model complexity and accuracy. \n",
    "\n",
    "- One of the good resources if we need to visualize all operations performed by CNN- https://www.youtube.com/watch?v=FmpDIaiMIeA"
   ]
  },
  {
   "cell_type": "markdown",
   "metadata": {},
   "source": [
    "### Max Pooling, Flattening Operations\n",
    "\n",
    "- ***Max-Pooling operation*** - It is running a 2*2 filter over the image with the stride value of 2 and outputting the maximum value present in that filter. This is basically a convolution operation with kewrnal having all values 1 and performing max operation once the kernal element wise multiplication has been done. \n",
    "- One major thing this helps with is reducing the model complexity as it reduces the dimensionality and the number of paramters the model has to learn. \n",
    "- **Why removing Max-Pooling is wrong**\n",
    "        - It isin't condusive to learning a spatial heirarchy of features. Suppose the max-pooling layers from the above setup has been removed. This will cause the third layer kernal of size(3*3) to get information coming from only a (7*7) image block. This would restrict the model to learn the global patterns in the image. \n",
    "        - Also after flattening the image the number of coefficients would be very high. As these features are then processed using Dense Neural Network this would cause the number of parameters to increase drastically. "
   ]
  },
  {
   "cell_type": "code",
   "execution_count": null,
   "metadata": {},
   "outputs": [],
   "source": []
  }
 ],
 "metadata": {
  "kernelspec": {
   "display_name": "Python 3",
   "language": "python",
   "name": "python3"
  },
  "language_info": {
   "codemirror_mode": {
    "name": "ipython",
    "version": 3
   },
   "file_extension": ".py",
   "mimetype": "text/x-python",
   "name": "python",
   "nbconvert_exporter": "python",
   "pygments_lexer": "ipython3",
   "version": "3.6.7"
  }
 },
 "nbformat": 4,
 "nbformat_minor": 2
}

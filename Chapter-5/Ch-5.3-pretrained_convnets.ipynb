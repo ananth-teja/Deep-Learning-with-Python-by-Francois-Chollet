{
 "cells": [
  {
   "cell_type": "markdown",
   "metadata": {},
   "source": [
    "### One of the methods is using a already trained model on a Generic Dataset like ImageNet and use the concept of Transfer Learning to fine tune the model for the new dataset.\n",
    "\n",
    "ImageNet model is one of the largest Image Classification projects with 1000 classes and 1.4 million images. All famous architecture for CNN are availabe in Keras which are pre trained on the ImageNet dataset. Most commonly used CNN architectures are VGG16, devloped in 2014, ResNets, Inception, Xception, etc\n",
    "\n",
    "Here we will be starting with the VGG16 architecture as it is easier to understand based on the layers learned till now, and easy to replicate. The architectures like ResNet use special techniqes for optimizations which will be covered later.\n",
    "\n",
    "***The pretrained network can be used in 2 ways, one for feature extraction and another for fine-tuning***"
   ]
  },
  {
   "cell_type": "markdown",
   "metadata": {},
   "source": [
    "### Feature Extraction\n",
    "\n",
    "Feature extraction consists of using the representations learned by a previous network to extract interesting features from new samples. These features are then run through a new classifier, which is trained from scratch.\n",
    "\n",
    "Consider this 3 step Process - \n",
    "1. Training a end to end network i.e. (CNN Base + Classifier) on some general dataset. \n",
    "2. Replacing the Classifier with a new classifer and freezing the CNN Base. \n",
    "3. Training the model from step 2 on a new dataset. \n",
    "\n",
    "This is esentially what we are going to do. The step 1 as been already been done for us. So, we will use Keras pretrained model and train the Clssifier on top of it's CNN Base which acts as a feature extractor. This is also called as Transfer Learning. \n",
    "\n",
    "The Dense layers are discarded as the features learned by Dense layers are not generizable, whereas the features learned by the CNN base asre quite generizable. \n",
    "\n",
    "For some applications even the CNN Base might require some fine tuning which we will study in the next section. \n",
    "\n",
    "> models can be imported from keras.applications\n",
    "\n",
    "In the following code we use the VGG16 model available in the Keras Applications. "
   ]
  },
  {
   "cell_type": "code",
   "execution_count": 1,
   "metadata": {},
   "outputs": [
    {
     "name": "stderr",
     "output_type": "stream",
     "text": [
      "Using TensorFlow backend.\n"
     ]
    }
   ],
   "source": [
    "from keras.applications import VGG16"
   ]
  },
  {
   "cell_type": "markdown",
   "metadata": {},
   "source": [
    "### The parameters passed while importing the model are - \n",
    "1. Weights checkpoint - Here ImageNet dataset\n",
    "2. include_top refers to whether the Dense layers are required or not.\n",
    "3. input_shape defines the size of the image."
   ]
  },
  {
   "cell_type": "code",
   "execution_count": 3,
   "metadata": {},
   "outputs": [
    {
     "name": "stdout",
     "output_type": "stream",
     "text": [
      "Downloading data from https://github.com/fchollet/deep-learning-models/releases/download/v0.1/vgg16_weights_tf_dim_ordering_tf_kernels_notop.h5\n",
      "58892288/58889256 [==============================] - 10s 0us/step\n"
     ]
    }
   ],
   "source": [
    "conv_base = VGG16(weights='imagenet',\n",
    "                 include_top=False,\n",
    "                 input_shape=(150,150,3))"
   ]
  },
  {
   "cell_type": "code",
   "execution_count": 4,
   "metadata": {},
   "outputs": [
    {
     "name": "stdout",
     "output_type": "stream",
     "text": [
      "_________________________________________________________________\n",
      "Layer (type)                 Output Shape              Param #   \n",
      "=================================================================\n",
      "input_1 (InputLayer)         (None, 150, 150, 3)       0         \n",
      "_________________________________________________________________\n",
      "block1_conv1 (Conv2D)        (None, 150, 150, 64)      1792      \n",
      "_________________________________________________________________\n",
      "block1_conv2 (Conv2D)        (None, 150, 150, 64)      36928     \n",
      "_________________________________________________________________\n",
      "block1_pool (MaxPooling2D)   (None, 75, 75, 64)        0         \n",
      "_________________________________________________________________\n",
      "block2_conv1 (Conv2D)        (None, 75, 75, 128)       73856     \n",
      "_________________________________________________________________\n",
      "block2_conv2 (Conv2D)        (None, 75, 75, 128)       147584    \n",
      "_________________________________________________________________\n",
      "block2_pool (MaxPooling2D)   (None, 37, 37, 128)       0         \n",
      "_________________________________________________________________\n",
      "block3_conv1 (Conv2D)        (None, 37, 37, 256)       295168    \n",
      "_________________________________________________________________\n",
      "block3_conv2 (Conv2D)        (None, 37, 37, 256)       590080    \n",
      "_________________________________________________________________\n",
      "block3_conv3 (Conv2D)        (None, 37, 37, 256)       590080    \n",
      "_________________________________________________________________\n",
      "block3_pool (MaxPooling2D)   (None, 18, 18, 256)       0         \n",
      "_________________________________________________________________\n",
      "block4_conv1 (Conv2D)        (None, 18, 18, 512)       1180160   \n",
      "_________________________________________________________________\n",
      "block4_conv2 (Conv2D)        (None, 18, 18, 512)       2359808   \n",
      "_________________________________________________________________\n",
      "block4_conv3 (Conv2D)        (None, 18, 18, 512)       2359808   \n",
      "_________________________________________________________________\n",
      "block4_pool (MaxPooling2D)   (None, 9, 9, 512)         0         \n",
      "_________________________________________________________________\n",
      "block5_conv1 (Conv2D)        (None, 9, 9, 512)         2359808   \n",
      "_________________________________________________________________\n",
      "block5_conv2 (Conv2D)        (None, 9, 9, 512)         2359808   \n",
      "_________________________________________________________________\n",
      "block5_conv3 (Conv2D)        (None, 9, 9, 512)         2359808   \n",
      "_________________________________________________________________\n",
      "block5_pool (MaxPooling2D)   (None, 4, 4, 512)         0         \n",
      "=================================================================\n",
      "Total params: 14,714,688\n",
      "Trainable params: 14,714,688\n",
      "Non-trainable params: 0\n",
      "_________________________________________________________________\n"
     ]
    }
   ],
   "source": [
    "conv_base.summary()"
   ]
  },
  {
   "cell_type": "markdown",
   "metadata": {},
   "source": [
    "***Check the dimesnions of the final feature map as we will be attaching the Dense layer on Top of that***\n",
    "\n",
    "```latex\n",
    "    Final Feature Map: (4,4,12)\n",
    "    No. of neurons in the first Dense layer = 4*4*512 = 8192\n",
    "```\n",
    "\n",
    "**Now, there are two ways in which we can use this Convolutional Base -** \n",
    "\n",
    "1. Running the Convolutional Base over the dataset, recording its output to a Numpy array on disk, and then using this data as input to a standalone, densely connected classifier. *This solution is fast and cheap to run, because it only requires running the CNN Once for every image and CNN is the most computationally expensive part of the model. But this would not allow us to use Data Augmentation.*\n",
    "2. Extending the model and adding the dense layers on top of it. Here we will be running the model end to end multiple times. So this process even though expensive would allow us to use the Data Generators. \n",
    "\n",
    "\n",
    "**One solution to the first problem would be Augmenting the data and writing it to the disk. Then using the Conv base model on it to extract features. Then running only the Dense Network for training the classifier.**"
   ]
  },
  {
   "cell_type": "markdown",
   "metadata": {},
   "source": [
    "### In this notebook we will first start with the first technique described above. "
   ]
  },
  {
   "cell_type": "code",
   "execution_count": 5,
   "metadata": {},
   "outputs": [],
   "source": [
    "import os\n",
    "import numpy as np\n",
    "from keras.preprocessing.image import ImageDataGenerator"
   ]
  },
  {
   "cell_type": "code",
   "execution_count": 6,
   "metadata": {},
   "outputs": [],
   "source": [
    "## Refer Notebook Ch-5.2 for the creation of the dataset using the Kaggle's Cats_vs_Dogs Dataset\n",
    "\n",
    "base_dir = '/home/yash/Datasets/dogs-vs-cats-small'\n",
    "train_dir = os.path.join(base_dir, 'train')\n",
    "validation_dir = os.path.join(base_dir, 'validation')\n",
    "test_dir = os.path.join(base_dir, 'test')"
   ]
  },
  {
   "cell_type": "code",
   "execution_count": 7,
   "metadata": {},
   "outputs": [],
   "source": [
    "datagen = ImageDataGenerator(rescale=1./255)\n",
    "batch_size = 20 "
   ]
  },
  {
   "cell_type": "code",
   "execution_count": 8,
   "metadata": {},
   "outputs": [],
   "source": [
    "## Function creates a simple datagen and runs all the batches through the Conv_base to create a new feature array\n",
    "## It returns the features extracted from the conv_base along with the original labels\n",
    "\n",
    "def extract_features(directory, sample_count):\n",
    "    features = np.zeros(shape=(sample_count,4,4,512))\n",
    "    labels = np.zeros(shape=(sample_count))\n",
    "    generator = datagen.flow_from_directory(directory,\n",
    "                                           target_size=(150,150),\n",
    "                                           batch_size = batch_size,\n",
    "                                           class_mode = 'binary')\n",
    "    i = 0 \n",
    "    for inputs_batch, labels_batch in generator:\n",
    "        features_batch = conv_base.predict(inputs_batch)\n",
    "        features[i*batch_size : (i+1)*batch_size] = features_batch\n",
    "        labels[i*batch_size : (i+1)*batch_size] = labels_batch\n",
    "        i+=1\n",
    "        if i*batch_size >= sample_count:\n",
    "            break\n",
    "    return features, labels"
   ]
  },
  {
   "cell_type": "code",
   "execution_count": 16,
   "metadata": {},
   "outputs": [
    {
     "name": "stdout",
     "output_type": "stream",
     "text": [
      "Found 2000 images belonging to 2 classes.\n",
      "Found 1000 images belonging to 2 classes.\n",
      "Found 1000 images belonging to 2 classes.\n"
     ]
    }
   ],
   "source": [
    "train_features, train_labels = extract_features(train_dir, 2000)\n",
    "validation_features, validation_labels = extract_features(validation_dir, 1000)\n",
    "test_features, test_labels = extract_features(test_dir, 1000)"
   ]
  },
  {
   "cell_type": "code",
   "execution_count": 17,
   "metadata": {},
   "outputs": [
    {
     "data": {
      "text/plain": [
       "(2000, 4, 4, 512)"
      ]
     },
     "execution_count": 17,
     "metadata": {},
     "output_type": "execute_result"
    }
   ],
   "source": [
    "### Now we have extracted the features for all the samples. \n",
    "### The dimensions of the features are based on the number of samples and\n",
    "### output dimesnions of the conv_base\n",
    "\n",
    "train_features.shape"
   ]
  },
  {
   "cell_type": "markdown",
   "metadata": {},
   "source": [
    "***Now we need to respahpe this so that we can feed the extracted features to the Dense Neural Network we are going to create. The Dense neural Network input parameters shape is (samples, features) i.e. 2D tensor, whereas we now have a 4D tensor. So we will be performing the flatten operation using numpy.***"
   ]
  },
  {
   "cell_type": "code",
   "execution_count": 18,
   "metadata": {},
   "outputs": [],
   "source": [
    "train_features = np.reshape(train_features, (train_features.shape[0], train_features.shape[1]*train_features.shape[2]*train_features.shape[3]))\n",
    "test_features = np.reshape(test_features, (test_features.shape[0], test_features.shape[1]*test_features.shape[2]*test_features.shape[3]))\n",
    "validation_features = np.reshape(validation_features, (validation_features.shape[0], validation_features.shape[1]*validation_features.shape[2]*validation_features.shape[3]))"
   ]
  },
  {
   "cell_type": "code",
   "execution_count": 19,
   "metadata": {},
   "outputs": [
    {
     "data": {
      "text/plain": [
       "(2000, 8192)"
      ]
     },
     "execution_count": 19,
     "metadata": {},
     "output_type": "execute_result"
    }
   ],
   "source": [
    "train_features.shape"
   ]
  },
  {
   "cell_type": "code",
   "execution_count": 20,
   "metadata": {},
   "outputs": [
    {
     "data": {
      "text/plain": [
       "(1000, 8192)"
      ]
     },
     "execution_count": 20,
     "metadata": {},
     "output_type": "execute_result"
    }
   ],
   "source": [
    "test_features.shape"
   ]
  },
  {
   "cell_type": "code",
   "execution_count": 21,
   "metadata": {},
   "outputs": [
    {
     "data": {
      "text/plain": [
       "(1000, 8192)"
      ]
     },
     "execution_count": 21,
     "metadata": {},
     "output_type": "execute_result"
    }
   ],
   "source": [
    "validation_features.shape"
   ]
  },
  {
   "cell_type": "markdown",
   "metadata": {},
   "source": [
    "### Starrting with the Dense Model"
   ]
  },
  {
   "cell_type": "code",
   "execution_count": 22,
   "metadata": {},
   "outputs": [],
   "source": [
    "from keras import models\n",
    "from keras import layers\n",
    "from keras import optimizers"
   ]
  },
  {
   "cell_type": "code",
   "execution_count": 24,
   "metadata": {},
   "outputs": [],
   "source": [
    "model = models.Sequential()\n",
    "model.add(layers.Dense(256, activation='relu', input_dim=8192))\n",
    "model.add(layers.Dropout(0.5))\n",
    "model.add(layers.Dense(1,activation='sigmoid'))"
   ]
  },
  {
   "cell_type": "code",
   "execution_count": 25,
   "metadata": {},
   "outputs": [
    {
     "name": "stdout",
     "output_type": "stream",
     "text": [
      "_________________________________________________________________\n",
      "Layer (type)                 Output Shape              Param #   \n",
      "=================================================================\n",
      "dense_2 (Dense)              (None, 256)               2097408   \n",
      "_________________________________________________________________\n",
      "dropout_1 (Dropout)          (None, 256)               0         \n",
      "_________________________________________________________________\n",
      "dense_3 (Dense)              (None, 1)                 257       \n",
      "=================================================================\n",
      "Total params: 2,097,665\n",
      "Trainable params: 2,097,665\n",
      "Non-trainable params: 0\n",
      "_________________________________________________________________\n"
     ]
    }
   ],
   "source": [
    "model.summary()\n"
   ]
  },
  {
   "cell_type": "code",
   "execution_count": 26,
   "metadata": {},
   "outputs": [],
   "source": [
    "model.compile(loss='binary_crossentropy',\n",
    "             optimizer = optimizers.RMSprop(lr=2e-5),\n",
    "             metrics=['acc'])"
   ]
  },
  {
   "cell_type": "code",
   "execution_count": 27,
   "metadata": {},
   "outputs": [
    {
     "name": "stdout",
     "output_type": "stream",
     "text": [
      "Train on 2000 samples, validate on 1000 samples\n",
      "Epoch 1/30\n",
      "2000/2000 [==============================] - 1s 372us/step - loss: 0.6203 - acc: 0.6445 - val_loss: 0.4534 - val_acc: 0.8210\n",
      "Epoch 2/30\n",
      "2000/2000 [==============================] - 0s 215us/step - loss: 0.4354 - acc: 0.8030 - val_loss: 0.3761 - val_acc: 0.8320\n",
      "Epoch 3/30\n",
      "2000/2000 [==============================] - 0s 215us/step - loss: 0.3612 - acc: 0.8435 - val_loss: 0.3423 - val_acc: 0.8450\n",
      "Epoch 4/30\n",
      "2000/2000 [==============================] - 0s 214us/step - loss: 0.3157 - acc: 0.8650 - val_loss: 0.3244 - val_acc: 0.8560\n",
      "Epoch 5/30\n",
      "2000/2000 [==============================] - 0s 218us/step - loss: 0.2922 - acc: 0.8790 - val_loss: 0.3080 - val_acc: 0.8610\n",
      "Epoch 6/30\n",
      "2000/2000 [==============================] - 0s 225us/step - loss: 0.2748 - acc: 0.8925 - val_loss: 0.3012 - val_acc: 0.8680\n",
      "Epoch 7/30\n",
      "2000/2000 [==============================] - 0s 231us/step - loss: 0.2531 - acc: 0.9030 - val_loss: 0.2922 - val_acc: 0.8680\n",
      "Epoch 8/30\n",
      "2000/2000 [==============================] - 0s 216us/step - loss: 0.2353 - acc: 0.9095 - val_loss: 0.2862 - val_acc: 0.8720\n",
      "Epoch 9/30\n",
      "2000/2000 [==============================] - 0s 228us/step - loss: 0.2334 - acc: 0.9075 - val_loss: 0.2805 - val_acc: 0.8760\n",
      "Epoch 10/30\n",
      "2000/2000 [==============================] - 0s 215us/step - loss: 0.2122 - acc: 0.9280 - val_loss: 0.2754 - val_acc: 0.8770\n",
      "Epoch 11/30\n",
      "2000/2000 [==============================] - 0s 213us/step - loss: 0.2050 - acc: 0.9230 - val_loss: 0.2728 - val_acc: 0.8780\n",
      "Epoch 12/30\n",
      "2000/2000 [==============================] - 0s 225us/step - loss: 0.1935 - acc: 0.9305 - val_loss: 0.2707 - val_acc: 0.8830\n",
      "Epoch 13/30\n",
      "2000/2000 [==============================] - 0s 224us/step - loss: 0.1862 - acc: 0.9365 - val_loss: 0.2701 - val_acc: 0.8770\n",
      "Epoch 14/30\n",
      "2000/2000 [==============================] - 0s 232us/step - loss: 0.1744 - acc: 0.9350 - val_loss: 0.2658 - val_acc: 0.8850\n",
      "Epoch 15/30\n",
      "2000/2000 [==============================] - 0s 216us/step - loss: 0.1714 - acc: 0.9360 - val_loss: 0.2649 - val_acc: 0.8820\n",
      "Epoch 16/30\n",
      "2000/2000 [==============================] - 0s 218us/step - loss: 0.1644 - acc: 0.9425 - val_loss: 0.2616 - val_acc: 0.8900\n",
      "Epoch 17/30\n",
      "2000/2000 [==============================] - 0s 215us/step - loss: 0.1585 - acc: 0.9420 - val_loss: 0.2607 - val_acc: 0.8870\n",
      "Epoch 18/30\n",
      "2000/2000 [==============================] - 0s 216us/step - loss: 0.1506 - acc: 0.9505 - val_loss: 0.2604 - val_acc: 0.8890\n",
      "Epoch 19/30\n",
      "2000/2000 [==============================] - 0s 231us/step - loss: 0.1476 - acc: 0.9470 - val_loss: 0.2661 - val_acc: 0.8730\n",
      "Epoch 20/30\n",
      "2000/2000 [==============================] - 0s 214us/step - loss: 0.1411 - acc: 0.9490 - val_loss: 0.2610 - val_acc: 0.8780\n",
      "Epoch 21/30\n",
      "2000/2000 [==============================] - 0s 214us/step - loss: 0.1276 - acc: 0.9570 - val_loss: 0.2654 - val_acc: 0.8870\n",
      "Epoch 22/30\n",
      "2000/2000 [==============================] - 0s 215us/step - loss: 0.1280 - acc: 0.9570 - val_loss: 0.2565 - val_acc: 0.8930\n",
      "Epoch 23/30\n",
      "2000/2000 [==============================] - 0s 220us/step - loss: 0.1204 - acc: 0.9590 - val_loss: 0.2557 - val_acc: 0.8920\n",
      "Epoch 24/30\n",
      "2000/2000 [==============================] - 0s 226us/step - loss: 0.1190 - acc: 0.9600 - val_loss: 0.2568 - val_acc: 0.8910\n",
      "Epoch 25/30\n",
      "2000/2000 [==============================] - 0s 214us/step - loss: 0.1102 - acc: 0.9665 - val_loss: 0.2561 - val_acc: 0.8870\n",
      "Epoch 26/30\n",
      "2000/2000 [==============================] - 0s 214us/step - loss: 0.1060 - acc: 0.9655 - val_loss: 0.2561 - val_acc: 0.8930\n",
      "Epoch 27/30\n",
      "2000/2000 [==============================] - 0s 216us/step - loss: 0.1112 - acc: 0.9605 - val_loss: 0.2602 - val_acc: 0.8800\n",
      "Epoch 28/30\n",
      "2000/2000 [==============================] - 0s 234us/step - loss: 0.1020 - acc: 0.9675 - val_loss: 0.2571 - val_acc: 0.8860\n",
      "Epoch 29/30\n",
      "2000/2000 [==============================] - 0s 216us/step - loss: 0.0944 - acc: 0.9735 - val_loss: 0.2603 - val_acc: 0.8890\n",
      "Epoch 30/30\n",
      "2000/2000 [==============================] - 0s 216us/step - loss: 0.0927 - acc: 0.9760 - val_loss: 0.2589 - val_acc: 0.8880\n"
     ]
    }
   ],
   "source": [
    "history = model.fit(train_features, \n",
    "                    train_labels,\n",
    "                    epochs = 30,\n",
    "                    batch_size = 20,\n",
    "                    validation_data=(validation_features, validation_labels))"
   ]
  },
  {
   "cell_type": "code",
   "execution_count": 30,
   "metadata": {},
   "outputs": [],
   "source": [
    "%matplotlib inline\n",
    "import matplotlib.pyplot as plt"
   ]
  },
  {
   "cell_type": "code",
   "execution_count": 31,
   "metadata": {},
   "outputs": [],
   "source": [
    "acc = history.history['acc']\n",
    "val_acc = history.history['val_acc']\n",
    "loss = history.history['loss']\n",
    "val_loss = history.history['val_loss']\n",
    "epochs = range(1, len(acc)+1)"
   ]
  },
  {
   "cell_type": "code",
   "execution_count": 32,
   "metadata": {},
   "outputs": [
    {
     "data": {
      "image/png": "[encoded data removed]",
      "text/plain": [
       "<Figure size 432x288 with 1 Axes>"
      ]
     },
     "metadata": {
      "needs_background": "light"
     },
     "output_type": "display_data"
    }
   ],
   "source": [
    "plt.plot(epochs, acc, 'bo', label='Training Accuracy')\n",
    "plt.plot(epochs, val_acc, 'o', label='Validation Accuracy')\n",
    "\n",
    "plt.title('Accuracy')\n",
    "plt.legend()\n",
    "plt.xlabel('Epochs')\n",
    "plt.ylabel('Accuracy')\n",
    "plt.show()"
   ]
  },
  {
   "cell_type": "code",
   "execution_count": 33,
   "metadata": {},
   "outputs": [
    {
     "data": {
      "image/png": "[encoded data removed]",
      "text/plain": [
       "<Figure size 432x288 with 1 Axes>"
      ]
     },
     "metadata": {
      "needs_background": "light"
     },
     "output_type": "display_data"
    }
   ],
   "source": [
    "plt.plot(epochs, loss, 'bo', label='Training Loss')\n",
    "plt.plot(epochs, val_loss, 'o', label='Validation Loss')\n",
    "\n",
    "\n",
    "plt.title('Losses')\n",
    "plt.legend()\n",
    "plt.xlabel('Epochs')\n",
    "plt.ylabel('Loss')\n",
    "plt.show()"
   ]
  },
  {
   "cell_type": "markdown",
   "metadata": {},
   "source": [
    "-----------------------------------------------------------------------------------------------------------------\n",
    "\n",
    "### Now using the second approach i.e. Training the model using the VGG16 end to end pipeline by adding the Dense Layers at he end. Here we will also get to use the Data Augmentation. \n",
    "\n",
    "\n",
    "\n",
    "-----------------------------------------------------------------------------------------------------------------\n",
    "\n",
    "\n",
    "***Important point before starting this section: The models act as layers and can be added to the network using the same Method. This is one of the features of Keras which allows modularity.***"
   ]
  },
  {
   "cell_type": "code",
   "execution_count": 34,
   "metadata": {},
   "outputs": [],
   "source": [
    "from keras import models\n",
    "from keras import layers"
   ]
  },
  {
   "cell_type": "code",
   "execution_count": 35,
   "metadata": {},
   "outputs": [],
   "source": [
    "model = models.Sequential()\n",
    "model.add(conv_base)\n",
    "model.add(layers.Flatten())\n",
    "model.add(layers.Dense(256, activation = 'relu'))\n",
    "model.add(layers.Dense(1, activation = 'sigmoid'))"
   ]
  },
  {
   "cell_type": "code",
   "execution_count": 36,
   "metadata": {},
   "outputs": [
    {
     "name": "stdout",
     "output_type": "stream",
     "text": [
      "_________________________________________________________________\n",
      "Layer (type)                 Output Shape              Param #   \n",
      "=================================================================\n",
      "vgg16 (Model)                (None, 4, 4, 512)         14714688  \n",
      "_________________________________________________________________\n",
      "flatten_1 (Flatten)          (None, 8192)              0         \n",
      "_________________________________________________________________\n",
      "dense_4 (Dense)              (None, 256)               2097408   \n",
      "_________________________________________________________________\n",
      "dense_5 (Dense)              (None, 1)                 257       \n",
      "=================================================================\n",
      "Total params: 16,812,353\n",
      "Trainable params: 16,812,353\n",
      "Non-trainable params: 0\n",
      "_________________________________________________________________\n"
     ]
    }
   ],
   "source": [
    "model.summary()"
   ]
  },
  {
   "cell_type": "markdown",
   "metadata": {},
   "source": [
    "----------------------------------------------------------------------------------------------------------------\n",
    "\n",
    "### Freezing the Parameters of the VGG16 model before starting to train is important. As here our aim is not to fine tune the VGG16 feature extractor to our model but use it just to extract features. The model's different layers can also be frozen depending uopon requirements, which is one thing we will try next.\n",
    "\n",
    "\n",
    "----------------------------------------------------------------------------------------------------------------\n",
    "\n",
    "In Keras thw weights for a layer can be frozen by setting the model.trainable as False. "
   ]
  },
  {
   "cell_type": "code",
   "execution_count": 37,
   "metadata": {},
   "outputs": [
    {
     "name": "stdout",
     "output_type": "stream",
     "text": [
      "This is the number of parameters before freezing conv_base:  30\n"
     ]
    }
   ],
   "source": [
    "print('This is the number of parameters before freezing conv_base: ', len(model.trainable_weights))"
   ]
  },
  {
   "cell_type": "code",
   "execution_count": 38,
   "metadata": {},
   "outputs": [],
   "source": [
    "conv_base.trainable = False"
   ]
  },
  {
   "cell_type": "code",
   "execution_count": 39,
   "metadata": {},
   "outputs": [
    {
     "name": "stdout",
     "output_type": "stream",
     "text": [
      "This is the number of parameters after freezing conv_base:  4\n"
     ]
    }
   ],
   "source": [
    "print('This is the number of parameters after freezing conv_base: ', len(model.trainable_weights))"
   ]
  },
  {
   "cell_type": "code",
   "execution_count": 40,
   "metadata": {},
   "outputs": [],
   "source": [
    "from keras.preprocessing.image import ImageDataGenerator\n",
    "from keras import optimizers"
   ]
  },
  {
   "cell_type": "code",
   "execution_count": 41,
   "metadata": {},
   "outputs": [],
   "source": [
    "train_datagen = ImageDataGenerator(rescale = 1./255,\n",
    "                             rotation_range=40,\n",
    "                             width_shift_range=0.2,\n",
    "                             height_shift_range=0.2,\n",
    "                             shear_range=0.2,\n",
    "                             zoom_range=0.2,\n",
    "                             horizontal_flip=True,\n",
    "                             fill_mode = 'nearest')\n",
    "\n",
    "test_datagen = ImageDataGenerator(rescale = 1./255)"
   ]
  },
  {
   "cell_type": "code",
   "execution_count": 42,
   "metadata": {},
   "outputs": [
    {
     "name": "stdout",
     "output_type": "stream",
     "text": [
      "Found 2000 images belonging to 2 classes.\n",
      "Found 1000 images belonging to 2 classes.\n"
     ]
    }
   ],
   "source": [
    "train_generator = train_datagen.flow_from_directory(train_dir,\n",
    "                                                   target_size = (150,150),\n",
    "                                                   batch_size = 32,\n",
    "                                                   class_mode = 'binary')\n",
    "\n",
    "validation_generator = test_datagen.flow_from_directory(validation_dir,\n",
    "                                                   target_size = (150,150),\n",
    "                                                   batch_size = 32,\n",
    "                                                   class_mode = 'binary')"
   ]
  },
  {
   "cell_type": "code",
   "execution_count": 43,
   "metadata": {},
   "outputs": [],
   "source": [
    "model.compile(optimizer = optimizers.RMSprop(lr=2e-5),\n",
    "             loss = 'binary_crossentropy',\n",
    "             metrics = ['acc'])"
   ]
  },
  {
   "cell_type": "code",
   "execution_count": 44,
   "metadata": {},
   "outputs": [
    {
     "name": "stdout",
     "output_type": "stream",
     "text": [
      "Epoch 1/50\n",
      "100/100 [==============================] - 31s 306ms/step - loss: 0.5566 - acc: 0.7272 - val_loss: 0.4143 - val_acc: 0.8414\n",
      "Epoch 2/50\n",
      "100/100 [==============================] - 28s 277ms/step - loss: 0.4540 - acc: 0.8031 - val_loss: 0.3520 - val_acc: 0.8486\n",
      "Epoch 3/50\n",
      "100/100 [==============================] - 28s 279ms/step - loss: 0.4205 - acc: 0.8103 - val_loss: 0.3432 - val_acc: 0.8591\n",
      "Epoch 4/50\n",
      "100/100 [==============================] - 28s 276ms/step - loss: 0.3911 - acc: 0.8206 - val_loss: 0.3071 - val_acc: 0.8789\n",
      "Epoch 5/50\n",
      "100/100 [==============================] - 27s 275ms/step - loss: 0.3694 - acc: 0.8403 - val_loss: 0.2963 - val_acc: 0.8725\n",
      "Epoch 6/50\n",
      "100/100 [==============================] - 28s 279ms/step - loss: 0.3584 - acc: 0.8378 - val_loss: 0.3121 - val_acc: 0.8673\n",
      "Epoch 7/50\n",
      "100/100 [==============================] - 27s 275ms/step - loss: 0.3432 - acc: 0.8475 - val_loss: 0.2881 - val_acc: 0.8763\n",
      "Epoch 8/50\n",
      "100/100 [==============================] - 28s 276ms/step - loss: 0.3276 - acc: 0.8625 - val_loss: 0.2777 - val_acc: 0.8821\n",
      "Epoch 9/50\n",
      "100/100 [==============================] - 27s 275ms/step - loss: 0.3280 - acc: 0.8541 - val_loss: 0.2652 - val_acc: 0.8872\n",
      "Epoch 10/50\n",
      "100/100 [==============================] - 28s 276ms/step - loss: 0.3202 - acc: 0.8622 - val_loss: 0.2687 - val_acc: 0.8807\n",
      "Epoch 11/50\n",
      "100/100 [==============================] - 28s 277ms/step - loss: 0.3226 - acc: 0.8550 - val_loss: 0.2734 - val_acc: 0.8872\n",
      "Epoch 12/50\n",
      "100/100 [==============================] - 28s 275ms/step - loss: 0.3105 - acc: 0.8659 - val_loss: 0.2556 - val_acc: 0.8909\n",
      "Epoch 13/50\n",
      "100/100 [==============================] - 28s 278ms/step - loss: 0.3016 - acc: 0.8644 - val_loss: 0.2684 - val_acc: 0.8808\n",
      "Epoch 14/50\n",
      "100/100 [==============================] - 28s 277ms/step - loss: 0.3081 - acc: 0.8659 - val_loss: 0.2488 - val_acc: 0.9023\n",
      "Epoch 15/50\n",
      "100/100 [==============================] - 29s 294ms/step - loss: 0.2961 - acc: 0.8719 - val_loss: 0.2639 - val_acc: 0.8860\n",
      "Epoch 16/50\n",
      "100/100 [==============================] - 28s 284ms/step - loss: 0.2854 - acc: 0.8803 - val_loss: 0.2643 - val_acc: 0.8866\n",
      "Epoch 17/50\n",
      "100/100 [==============================] - 28s 279ms/step - loss: 0.2995 - acc: 0.8769 - val_loss: 0.2590 - val_acc: 0.8928\n",
      "Epoch 18/50\n",
      "100/100 [==============================] - 28s 278ms/step - loss: 0.2898 - acc: 0.8766 - val_loss: 0.2635 - val_acc: 0.8918\n",
      "Epoch 19/50\n",
      "100/100 [==============================] - 28s 276ms/step - loss: 0.2879 - acc: 0.8784 - val_loss: 0.2456 - val_acc: 0.8909\n",
      "Epoch 20/50\n",
      "100/100 [==============================] - 28s 277ms/step - loss: 0.2845 - acc: 0.8737 - val_loss: 0.2424 - val_acc: 0.8982\n",
      "Epoch 21/50\n",
      "100/100 [==============================] - 28s 278ms/step - loss: 0.2821 - acc: 0.8766 - val_loss: 0.2495 - val_acc: 0.8915\n",
      "Epoch 22/50\n",
      "100/100 [==============================] - 28s 276ms/step - loss: 0.2813 - acc: 0.8806 - val_loss: 0.2549 - val_acc: 0.8969\n",
      "Epoch 23/50\n",
      "100/100 [==============================] - 28s 278ms/step - loss: 0.2835 - acc: 0.8763 - val_loss: 0.2489 - val_acc: 0.8991\n",
      "Epoch 24/50\n",
      "100/100 [==============================] - 27s 274ms/step - loss: 0.2770 - acc: 0.8784 - val_loss: 0.2695 - val_acc: 0.8834\n",
      "Epoch 25/50\n",
      "100/100 [==============================] - 27s 273ms/step - loss: 0.2804 - acc: 0.8806 - val_loss: 0.2398 - val_acc: 0.8988\n",
      "Epoch 26/50\n",
      "100/100 [==============================] - 27s 274ms/step - loss: 0.2687 - acc: 0.8894 - val_loss: 0.2480 - val_acc: 0.8934\n",
      "Epoch 27/50\n",
      "100/100 [==============================] - 31s 315ms/step - loss: 0.2632 - acc: 0.8872 - val_loss: 0.2465 - val_acc: 0.9046\n",
      "Epoch 28/50\n",
      "100/100 [==============================] - 28s 284ms/step - loss: 0.2726 - acc: 0.8819 - val_loss: 0.2401 - val_acc: 0.8985\n",
      "Epoch 29/50\n",
      "100/100 [==============================] - 27s 272ms/step - loss: 0.2773 - acc: 0.8894 - val_loss: 0.2533 - val_acc: 0.8930\n",
      "Epoch 30/50\n",
      "100/100 [==============================] - 27s 273ms/step - loss: 0.2657 - acc: 0.8822 - val_loss: 0.2343 - val_acc: 0.9042\n",
      "Epoch 31/50\n",
      "100/100 [==============================] - 27s 274ms/step - loss: 0.2643 - acc: 0.8819 - val_loss: 0.2420 - val_acc: 0.8982\n",
      "Epoch 32/50\n",
      "100/100 [==============================] - 32s 317ms/step - loss: 0.2530 - acc: 0.8909 - val_loss: 0.2525 - val_acc: 0.8924\n",
      "Epoch 33/50\n",
      "100/100 [==============================] - 28s 276ms/step - loss: 0.2665 - acc: 0.8844 - val_loss: 0.2513 - val_acc: 0.8947\n",
      "Epoch 34/50\n",
      "100/100 [==============================] - 28s 279ms/step - loss: 0.2496 - acc: 0.8953 - val_loss: 0.2453 - val_acc: 0.8950\n",
      "Epoch 35/50\n",
      "100/100 [==============================] - 28s 279ms/step - loss: 0.2582 - acc: 0.8944 - val_loss: 0.2509 - val_acc: 0.8896\n",
      "Epoch 36/50\n",
      "100/100 [==============================] - 27s 275ms/step - loss: 0.2660 - acc: 0.8884 - val_loss: 0.2439 - val_acc: 0.8963\n",
      "Epoch 37/50\n",
      "100/100 [==============================] - 28s 282ms/step - loss: 0.2600 - acc: 0.8875 - val_loss: 0.2477 - val_acc: 0.8972\n",
      "Epoch 38/50\n",
      "100/100 [==============================] - 27s 274ms/step - loss: 0.2516 - acc: 0.8938 - val_loss: 0.2341 - val_acc: 0.8950\n",
      "Epoch 39/50\n",
      "100/100 [==============================] - 27s 274ms/step - loss: 0.2622 - acc: 0.8906 - val_loss: 0.2490 - val_acc: 0.8928\n",
      "Epoch 40/50\n",
      "100/100 [==============================] - 28s 280ms/step - loss: 0.2698 - acc: 0.8853 - val_loss: 0.2351 - val_acc: 0.9046\n",
      "Epoch 41/50\n",
      "100/100 [==============================] - 28s 276ms/step - loss: 0.2431 - acc: 0.8959 - val_loss: 0.2413 - val_acc: 0.9001\n",
      "Epoch 42/50\n",
      "100/100 [==============================] - 30s 298ms/step - loss: 0.2497 - acc: 0.8959 - val_loss: 0.2367 - val_acc: 0.8997\n",
      "Epoch 43/50\n",
      "100/100 [==============================] - 28s 276ms/step - loss: 0.2450 - acc: 0.9037 - val_loss: 0.2339 - val_acc: 0.9046\n",
      "Epoch 44/50\n",
      "100/100 [==============================] - 28s 276ms/step - loss: 0.2614 - acc: 0.8875 - val_loss: 0.2442 - val_acc: 0.8959\n",
      "Epoch 45/50\n",
      "100/100 [==============================] - 28s 276ms/step - loss: 0.2543 - acc: 0.8950 - val_loss: 0.2435 - val_acc: 0.8943\n",
      "Epoch 46/50\n",
      "100/100 [==============================] - 27s 275ms/step - loss: 0.2549 - acc: 0.8925 - val_loss: 0.2424 - val_acc: 0.9036\n",
      "Epoch 47/50\n",
      "100/100 [==============================] - 33s 328ms/step - loss: 0.2473 - acc: 0.8925 - val_loss: 0.2371 - val_acc: 0.8943\n",
      "Epoch 48/50\n",
      "100/100 [==============================] - 27s 274ms/step - loss: 0.2522 - acc: 0.8906 - val_loss: 0.2520 - val_acc: 0.8943\n",
      "Epoch 49/50\n",
      "100/100 [==============================] - 30s 297ms/step - loss: 0.2562 - acc: 0.8822 - val_loss: 0.2490 - val_acc: 0.8959\n",
      "Epoch 50/50\n",
      "100/100 [==============================] - 28s 279ms/step - loss: 0.2378 - acc: 0.9053 - val_loss: 0.2446 - val_acc: 0.8969\n"
     ]
    }
   ],
   "source": [
    "### Fitting the model using the Data Generator created\n",
    "\n",
    "history = model.fit_generator(train_generator,\n",
    "                             steps_per_epoch = 100,\n",
    "                             epochs = 50,\n",
    "                             validation_data = validation_generator,\n",
    "                             validation_steps = 50)"
   ]
  },
  {
   "cell_type": "code",
   "execution_count": 45,
   "metadata": {},
   "outputs": [],
   "source": [
    "acc = history.history['acc']\n",
    "val_acc = history.history['val_acc']\n",
    "loss = history.history['loss']\n",
    "val_loss = history.history['val_loss']\n",
    "epochs = range(1, len(acc)+1)"
   ]
  },
  {
   "cell_type": "code",
   "execution_count": 46,
   "metadata": {},
   "outputs": [
    {
     "data": {
      "image/png": "[encoded data removed]",
      "text/plain": [
       "<Figure size 432x288 with 1 Axes>"
      ]
     },
     "metadata": {
      "needs_background": "light"
     },
     "output_type": "display_data"
    }
   ],
   "source": [
    "plt.plot(epochs, acc, 'bo', label='Training Accuracy')\n",
    "plt.plot(epochs, val_acc, 'o', label='Validation Accuracy')\n",
    "\n",
    "plt.title('Accuracy')\n",
    "plt.legend()\n",
    "plt.xlabel('Epochs')\n",
    "plt.ylabel('Accuracy')\n",
    "plt.show()"
   ]
  },
  {
   "cell_type": "code",
   "execution_count": 47,
   "metadata": {},
   "outputs": [
    {
     "data": {
      "image/png": "[encoded data removed]",
      "text/plain": [
       "<Figure size 432x288 with 1 Axes>"
      ]
     },
     "metadata": {
      "needs_background": "light"
     },
     "output_type": "display_data"
    }
   ],
   "source": [
    "plt.plot(epochs, loss, 'bo', label='Training Loss')\n",
    "plt.plot(epochs, val_loss, 'o', label='Validation Loss')\n",
    "\n",
    "\n",
    "plt.title('Losses')\n",
    "plt.legend()\n",
    "plt.xlabel('Epochs')\n",
    "plt.ylabel('Loss')\n",
    "plt.show()"
   ]
  },
  {
   "cell_type": "markdown",
   "metadata": {},
   "source": [
    "### Fine Tuning the Model\n",
    "\n",
    "**The way the Convolutional Neural Networks training happenms is very intuitive. The earlier layers try to capture the low level features like small patterns in the edges, whereas as we keep going deeper the feature maps start becoming more high level and clearly defined features. For object detection the last layer may features may involve the feature associated to the Object. For a Car it might the feature maybe the complete exo-skeleton of the car. So sometimes when usinmg transfer learning it is advised to unfreeze some of the last layers of the CNN and then train th model as this helps in getter problem specific features and remove some features which are not relevent when it comes to working with this probelem. \n",
    "\n",
    "--------------------------------------------------------------------------------------------------------------\n",
    "\n",
    "### The steps for fine tuning the model are - \n",
    "\n",
    "1. Add thee custom network on top of an already-trained base network. \n",
    "2. Freeze the base network.\n",
    "3. Train the part you added.\n",
    "4. Unfreeze some layers in the Base Network. \n",
    "5. Jointly train both these layers and the part you added. \n",
    "\n",
    "\n",
    "-----------------------------------------------------------------------------------------------------------------\n",
    "### So we are done with the first three steps till now.\n",
    "-----------------------------------------------------------------------------------------------------------------"
   ]
  },
  {
   "cell_type": "code",
   "execution_count": 48,
   "metadata": {},
   "outputs": [
    {
     "name": "stdout",
     "output_type": "stream",
     "text": [
      "_________________________________________________________________\n",
      "Layer (type)                 Output Shape              Param #   \n",
      "=================================================================\n",
      "input_1 (InputLayer)         (None, 150, 150, 3)       0         \n",
      "_________________________________________________________________\n",
      "block1_conv1 (Conv2D)        (None, 150, 150, 64)      1792      \n",
      "_________________________________________________________________\n",
      "block1_conv2 (Conv2D)        (None, 150, 150, 64)      36928     \n",
      "_________________________________________________________________\n",
      "block1_pool (MaxPooling2D)   (None, 75, 75, 64)        0         \n",
      "_________________________________________________________________\n",
      "block2_conv1 (Conv2D)        (None, 75, 75, 128)       73856     \n",
      "_________________________________________________________________\n",
      "block2_conv2 (Conv2D)        (None, 75, 75, 128)       147584    \n",
      "_________________________________________________________________\n",
      "block2_pool (MaxPooling2D)   (None, 37, 37, 128)       0         \n",
      "_________________________________________________________________\n",
      "block3_conv1 (Conv2D)        (None, 37, 37, 256)       295168    \n",
      "_________________________________________________________________\n",
      "block3_conv2 (Conv2D)        (None, 37, 37, 256)       590080    \n",
      "_________________________________________________________________\n",
      "block3_conv3 (Conv2D)        (None, 37, 37, 256)       590080    \n",
      "_________________________________________________________________\n",
      "block3_pool (MaxPooling2D)   (None, 18, 18, 256)       0         \n",
      "_________________________________________________________________\n",
      "block4_conv1 (Conv2D)        (None, 18, 18, 512)       1180160   \n",
      "_________________________________________________________________\n",
      "block4_conv2 (Conv2D)        (None, 18, 18, 512)       2359808   \n",
      "_________________________________________________________________\n",
      "block4_conv3 (Conv2D)        (None, 18, 18, 512)       2359808   \n",
      "_________________________________________________________________\n",
      "block4_pool (MaxPooling2D)   (None, 9, 9, 512)         0         \n",
      "_________________________________________________________________\n",
      "block5_conv1 (Conv2D)        (None, 9, 9, 512)         2359808   \n",
      "_________________________________________________________________\n",
      "block5_conv2 (Conv2D)        (None, 9, 9, 512)         2359808   \n",
      "_________________________________________________________________\n",
      "block5_conv3 (Conv2D)        (None, 9, 9, 512)         2359808   \n",
      "_________________________________________________________________\n",
      "block5_pool (MaxPooling2D)   (None, 4, 4, 512)         0         \n",
      "=================================================================\n",
      "Total params: 14,714,688\n",
      "Trainable params: 0\n",
      "Non-trainable params: 14,714,688\n",
      "_________________________________________________________________\n"
     ]
    }
   ],
   "source": [
    "conv_base.summary()"
   ]
  },
  {
   "cell_type": "markdown",
   "metadata": {},
   "source": [
    "***We will be fine tuning the last three COnvolutional Layers - So layers uptill the block4_pool will remain frozen, and the last three layers i.e. block5_conv1, block5_conv2, block5_conv3 should be trainable.***"
   ]
  },
  {
   "cell_type": "code",
   "execution_count": 49,
   "metadata": {},
   "outputs": [],
   "source": [
    "conv_base.trainable = True"
   ]
  },
  {
   "cell_type": "code",
   "execution_count": 50,
   "metadata": {},
   "outputs": [],
   "source": [
    "set_trainable = False\n",
    "for layer in conv_base.layers:\n",
    "    if layer.name == 'block5_conv1':\n",
    "        set_Trainable = True\n",
    "    if set_trainable:\n",
    "        layer.Trainable = True\n",
    "    else:\n",
    "        layer_Trainable = False"
   ]
  },
  {
   "cell_type": "code",
   "execution_count": 51,
   "metadata": {},
   "outputs": [],
   "source": [
    "### During fine tuning we use a very low learning rate as we \n",
    "### do not need to damage the representations learned earlier\n",
    "\n",
    "model.compile(optimizer = optimizers.RMSprop(lr=1e-5),\n",
    "             loss = 'binary_crossentropy',\n",
    "             metrics = ['acc'])"
   ]
  },
  {
   "cell_type": "code",
   "execution_count": 52,
   "metadata": {},
   "outputs": [
    {
     "name": "stdout",
     "output_type": "stream",
     "text": [
      "Epoch 1/100\n",
      "100/100 [==============================] - 42s 423ms/step - loss: 0.2529 - acc: 0.9009 - val_loss: 0.1895 - val_acc: 0.9308\n",
      "Epoch 2/100\n",
      "100/100 [==============================] - 36s 363ms/step - loss: 0.1799 - acc: 0.9253 - val_loss: 0.1509 - val_acc: 0.9439\n",
      "Epoch 3/100\n",
      "100/100 [==============================] - 36s 364ms/step - loss: 0.1520 - acc: 0.9369 - val_loss: 0.1155 - val_acc: 0.9556\n",
      "Epoch 4/100\n",
      "100/100 [==============================] - 38s 376ms/step - loss: 0.1053 - acc: 0.9559 - val_loss: 0.1089 - val_acc: 0.9613\n",
      "Epoch 5/100\n",
      "100/100 [==============================] - 38s 376ms/step - loss: 0.1021 - acc: 0.9597 - val_loss: 0.1058 - val_acc: 0.9646\n",
      "Epoch 6/100\n",
      "100/100 [==============================] - 37s 375ms/step - loss: 0.0920 - acc: 0.9647 - val_loss: 0.1001 - val_acc: 0.9626\n",
      "Epoch 7/100\n",
      "100/100 [==============================] - 37s 374ms/step - loss: 0.0771 - acc: 0.9687 - val_loss: 0.1122 - val_acc: 0.9665\n",
      "Epoch 8/100\n",
      "100/100 [==============================] - 38s 375ms/step - loss: 0.0643 - acc: 0.9759 - val_loss: 0.1242 - val_acc: 0.9645\n",
      "Epoch 9/100\n",
      "100/100 [==============================] - 37s 371ms/step - loss: 0.0621 - acc: 0.9737 - val_loss: 0.1666 - val_acc: 0.9472\n",
      "Epoch 10/100\n",
      "100/100 [==============================] - 37s 371ms/step - loss: 0.0528 - acc: 0.9794 - val_loss: 0.1163 - val_acc: 0.9670\n",
      "Epoch 11/100\n",
      "100/100 [==============================] - 37s 375ms/step - loss: 0.0482 - acc: 0.9794 - val_loss: 0.1388 - val_acc: 0.9607\n",
      "Epoch 12/100\n",
      "100/100 [==============================] - 39s 386ms/step - loss: 0.0435 - acc: 0.9841 - val_loss: 0.1544 - val_acc: 0.9613\n",
      "Epoch 13/100\n",
      "100/100 [==============================] - 38s 384ms/step - loss: 0.0328 - acc: 0.9853 - val_loss: 0.1181 - val_acc: 0.9683\n",
      "Epoch 14/100\n",
      "100/100 [==============================] - 38s 384ms/step - loss: 0.0381 - acc: 0.9862 - val_loss: 0.4331 - val_acc: 0.9278\n",
      "Epoch 15/100\n",
      "100/100 [==============================] - 38s 384ms/step - loss: 0.0380 - acc: 0.9875 - val_loss: 0.1623 - val_acc: 0.9600\n",
      "Epoch 16/100\n",
      "100/100 [==============================] - 38s 385ms/step - loss: 0.0325 - acc: 0.9872 - val_loss: 0.1890 - val_acc: 0.9607\n",
      "Epoch 17/100\n",
      "100/100 [==============================] - 38s 384ms/step - loss: 0.0297 - acc: 0.9891 - val_loss: 0.1344 - val_acc: 0.9676\n",
      "Epoch 18/100\n",
      "100/100 [==============================] - 38s 384ms/step - loss: 0.0265 - acc: 0.9906 - val_loss: 0.1517 - val_acc: 0.9659\n",
      "Epoch 19/100\n",
      "100/100 [==============================] - 39s 386ms/step - loss: 0.0215 - acc: 0.9928 - val_loss: 0.1392 - val_acc: 0.9657\n",
      "Epoch 20/100\n",
      "100/100 [==============================] - 38s 383ms/step - loss: 0.0249 - acc: 0.9916 - val_loss: 0.2805 - val_acc: 0.9375\n",
      "Epoch 21/100\n",
      "100/100 [==============================] - 38s 384ms/step - loss: 0.0226 - acc: 0.9909 - val_loss: 0.1380 - val_acc: 0.9678\n",
      "Epoch 22/100\n",
      "100/100 [==============================] - 38s 383ms/step - loss: 0.0215 - acc: 0.9941 - val_loss: 0.1501 - val_acc: 0.9657\n",
      "Epoch 23/100\n",
      "100/100 [==============================] - 38s 383ms/step - loss: 0.0232 - acc: 0.9928 - val_loss: 0.1216 - val_acc: 0.9723\n",
      "Epoch 24/100\n",
      "100/100 [==============================] - 38s 384ms/step - loss: 0.0207 - acc: 0.9937 - val_loss: 0.2360 - val_acc: 0.9556\n",
      "Epoch 25/100\n",
      "100/100 [==============================] - 38s 384ms/step - loss: 0.0218 - acc: 0.9931 - val_loss: 0.1704 - val_acc: 0.9601\n",
      "Epoch 26/100\n",
      "100/100 [==============================] - 38s 384ms/step - loss: 0.0228 - acc: 0.9925 - val_loss: 0.1492 - val_acc: 0.9657\n",
      "Epoch 27/100\n",
      "100/100 [==============================] - 38s 383ms/step - loss: 0.0145 - acc: 0.9941 - val_loss: 0.2128 - val_acc: 0.9633\n",
      "Epoch 28/100\n",
      "100/100 [==============================] - 38s 384ms/step - loss: 0.0154 - acc: 0.9931 - val_loss: 0.2333 - val_acc: 0.9555\n",
      "Epoch 29/100\n",
      "100/100 [==============================] - 38s 383ms/step - loss: 0.0166 - acc: 0.9947 - val_loss: 0.2165 - val_acc: 0.9575\n",
      "Epoch 30/100\n",
      "100/100 [==============================] - 38s 382ms/step - loss: 0.0180 - acc: 0.9950 - val_loss: 0.1546 - val_acc: 0.9684\n",
      "Epoch 31/100\n",
      "100/100 [==============================] - 38s 384ms/step - loss: 0.0199 - acc: 0.9944 - val_loss: 0.1845 - val_acc: 0.9638\n",
      "Epoch 32/100\n",
      "100/100 [==============================] - 38s 381ms/step - loss: 0.0111 - acc: 0.9966 - val_loss: 0.1975 - val_acc: 0.9671\n",
      "Epoch 33/100\n",
      "100/100 [==============================] - 38s 384ms/step - loss: 0.0227 - acc: 0.9931 - val_loss: 0.1859 - val_acc: 0.9689\n",
      "Epoch 34/100\n",
      "100/100 [==============================] - 38s 384ms/step - loss: 0.0110 - acc: 0.9962 - val_loss: 0.1502 - val_acc: 0.9659\n",
      "Epoch 35/100\n",
      "100/100 [==============================] - 38s 385ms/step - loss: 0.0201 - acc: 0.9944 - val_loss: 0.2020 - val_acc: 0.9638\n",
      "Epoch 36/100\n",
      "100/100 [==============================] - 38s 383ms/step - loss: 0.0097 - acc: 0.9953 - val_loss: 0.2471 - val_acc: 0.9665\n",
      "Epoch 37/100\n",
      "100/100 [==============================] - 38s 381ms/step - loss: 0.0111 - acc: 0.9953 - val_loss: 0.2139 - val_acc: 0.9659\n",
      "Epoch 38/100\n",
      "100/100 [==============================] - 41s 407ms/step - loss: 0.0128 - acc: 0.9947 - val_loss: 0.1869 - val_acc: 0.9600\n",
      "Epoch 39/100\n",
      "100/100 [==============================] - 37s 371ms/step - loss: 0.0114 - acc: 0.9959 - val_loss: 0.2073 - val_acc: 0.9691\n",
      "Epoch 40/100\n",
      "100/100 [==============================] - 38s 379ms/step - loss: 0.0155 - acc: 0.9925 - val_loss: 0.1764 - val_acc: 0.9708\n",
      "Epoch 41/100\n",
      "100/100 [==============================] - 38s 379ms/step - loss: 0.0122 - acc: 0.9966 - val_loss: 0.1750 - val_acc: 0.9704\n",
      "Epoch 42/100\n",
      "100/100 [==============================] - 38s 379ms/step - loss: 0.0097 - acc: 0.9959 - val_loss: 0.1837 - val_acc: 0.9714\n",
      "Epoch 43/100\n",
      "100/100 [==============================] - 38s 379ms/step - loss: 0.0101 - acc: 0.9959 - val_loss: 0.2362 - val_acc: 0.9626\n",
      "Epoch 44/100\n",
      "100/100 [==============================] - 38s 378ms/step - loss: 0.0195 - acc: 0.9950 - val_loss: 0.2360 - val_acc: 0.9594\n",
      "Epoch 45/100\n",
      "100/100 [==============================] - 38s 380ms/step - loss: 0.0125 - acc: 0.9959 - val_loss: 0.2019 - val_acc: 0.9638\n",
      "Epoch 46/100\n",
      "100/100 [==============================] - 38s 379ms/step - loss: 0.0053 - acc: 0.9978 - val_loss: 0.2016 - val_acc: 0.9633\n",
      "Epoch 47/100\n",
      "100/100 [==============================] - 38s 379ms/step - loss: 0.0072 - acc: 0.9975 - val_loss: 0.3180 - val_acc: 0.9607\n",
      "Epoch 48/100\n",
      "100/100 [==============================] - 38s 380ms/step - loss: 0.0110 - acc: 0.9959 - val_loss: 0.2073 - val_acc: 0.9652\n",
      "Epoch 49/100\n",
      "100/100 [==============================] - 38s 376ms/step - loss: 0.0108 - acc: 0.9962 - val_loss: 0.1976 - val_acc: 0.9645\n",
      "Epoch 50/100\n",
      "100/100 [==============================] - 38s 376ms/step - loss: 0.0127 - acc: 0.9947 - val_loss: 0.2273 - val_acc: 0.9613\n",
      "Epoch 51/100\n",
      "100/100 [==============================] - 38s 375ms/step - loss: 0.0089 - acc: 0.9972 - val_loss: 0.1551 - val_acc: 0.9746\n",
      "Epoch 52/100\n",
      "100/100 [==============================] - 37s 375ms/step - loss: 0.0081 - acc: 0.9969 - val_loss: 0.1863 - val_acc: 0.9723\n",
      "Epoch 53/100\n",
      "100/100 [==============================] - 38s 376ms/step - loss: 0.0070 - acc: 0.9975 - val_loss: 0.2465 - val_acc: 0.9620\n",
      "Epoch 54/100\n",
      "100/100 [==============================] - 38s 376ms/step - loss: 0.0090 - acc: 0.9966 - val_loss: 0.2201 - val_acc: 0.9626\n",
      "Epoch 55/100\n",
      "100/100 [==============================] - 38s 376ms/step - loss: 0.0088 - acc: 0.9981 - val_loss: 0.2088 - val_acc: 0.9704\n",
      "Epoch 56/100\n",
      "100/100 [==============================] - 38s 377ms/step - loss: 0.0088 - acc: 0.9966 - val_loss: 0.1940 - val_acc: 0.9714\n",
      "Epoch 57/100\n",
      "100/100 [==============================] - 37s 370ms/step - loss: 0.0150 - acc: 0.9962 - val_loss: 0.2760 - val_acc: 0.9562\n",
      "Epoch 58/100\n",
      "100/100 [==============================] - 37s 372ms/step - loss: 0.0096 - acc: 0.9966 - val_loss: 0.1874 - val_acc: 0.9670\n",
      "Epoch 59/100\n",
      "100/100 [==============================] - 37s 370ms/step - loss: 0.0092 - acc: 0.9972 - val_loss: 0.1849 - val_acc: 0.9716\n",
      "Epoch 60/100\n",
      "100/100 [==============================] - 37s 371ms/step - loss: 0.0120 - acc: 0.9962 - val_loss: 0.2682 - val_acc: 0.9594\n"
     ]
    },
    {
     "name": "stdout",
     "output_type": "stream",
     "text": [
      "Epoch 61/100\n",
      "100/100 [==============================] - 36s 365ms/step - loss: 0.0043 - acc: 0.9994 - val_loss: 0.1951 - val_acc: 0.9657\n",
      "Epoch 62/100\n",
      "100/100 [==============================] - 37s 366ms/step - loss: 0.0061 - acc: 0.9978 - val_loss: 0.2237 - val_acc: 0.9659\n",
      "Epoch 63/100\n",
      "100/100 [==============================] - 36s 365ms/step - loss: 0.0134 - acc: 0.9972 - val_loss: 0.2674 - val_acc: 0.9607\n",
      "Epoch 64/100\n",
      "100/100 [==============================] - 36s 364ms/step - loss: 0.0056 - acc: 0.9978 - val_loss: 0.2209 - val_acc: 0.9716\n",
      "Epoch 65/100\n",
      "100/100 [==============================] - 37s 366ms/step - loss: 0.0045 - acc: 0.9978 - val_loss: 0.2394 - val_acc: 0.9651\n",
      "Epoch 66/100\n",
      "100/100 [==============================] - 36s 364ms/step - loss: 0.0071 - acc: 0.9975 - val_loss: 0.2151 - val_acc: 0.9710\n",
      "Epoch 67/100\n",
      "100/100 [==============================] - 37s 366ms/step - loss: 0.0058 - acc: 0.9978 - val_loss: 0.2584 - val_acc: 0.9638\n",
      "Epoch 68/100\n",
      "100/100 [==============================] - 36s 364ms/step - loss: 0.0121 - acc: 0.9959 - val_loss: 0.3434 - val_acc: 0.9555\n",
      "Epoch 69/100\n",
      "100/100 [==============================] - 36s 365ms/step - loss: 0.0049 - acc: 0.9981 - val_loss: 0.2539 - val_acc: 0.9607\n",
      "Epoch 70/100\n",
      "100/100 [==============================] - 37s 366ms/step - loss: 0.0109 - acc: 0.9962 - val_loss: 0.2118 - val_acc: 0.9676\n",
      "Epoch 71/100\n",
      "100/100 [==============================] - 36s 364ms/step - loss: 0.0066 - acc: 0.9972 - val_loss: 0.2144 - val_acc: 0.9716\n",
      "Epoch 72/100\n",
      "100/100 [==============================] - 37s 366ms/step - loss: 0.0114 - acc: 0.9959 - val_loss: 0.2455 - val_acc: 0.9651\n",
      "Epoch 73/100\n",
      "100/100 [==============================] - 37s 367ms/step - loss: 0.0106 - acc: 0.9966 - val_loss: 0.2911 - val_acc: 0.9633\n",
      "Epoch 74/100\n",
      "100/100 [==============================] - 36s 363ms/step - loss: 0.0085 - acc: 0.9975 - val_loss: 0.2260 - val_acc: 0.9695\n",
      "Epoch 75/100\n",
      "100/100 [==============================] - 36s 364ms/step - loss: 0.0104 - acc: 0.9978 - val_loss: 0.2469 - val_acc: 0.9684\n",
      "Epoch 76/100\n",
      "100/100 [==============================] - 36s 362ms/step - loss: 0.0050 - acc: 0.9987 - val_loss: 0.1913 - val_acc: 0.9691\n",
      "Epoch 77/100\n",
      "100/100 [==============================] - 36s 364ms/step - loss: 0.0028 - acc: 0.9994 - val_loss: 0.3244 - val_acc: 0.9619\n",
      "Epoch 78/100\n",
      "100/100 [==============================] - 37s 368ms/step - loss: 0.0089 - acc: 0.9969 - val_loss: 0.2561 - val_acc: 0.9607\n",
      "Epoch 79/100\n",
      "100/100 [==============================] - 37s 366ms/step - loss: 0.0092 - acc: 0.9975 - val_loss: 0.2925 - val_acc: 0.9600\n",
      "Epoch 80/100\n",
      "100/100 [==============================] - 36s 362ms/step - loss: 0.0040 - acc: 0.9984 - val_loss: 0.2443 - val_acc: 0.9691\n",
      "Epoch 81/100\n",
      "100/100 [==============================] - 36s 362ms/step - loss: 0.0100 - acc: 0.9975 - val_loss: 0.2996 - val_acc: 0.9575\n",
      "Epoch 82/100\n",
      "100/100 [==============================] - 36s 363ms/step - loss: 0.0111 - acc: 0.9962 - val_loss: 0.2599 - val_acc: 0.9607\n",
      "Epoch 83/100\n",
      "100/100 [==============================] - 36s 363ms/step - loss: 0.0028 - acc: 0.9991 - val_loss: 0.2563 - val_acc: 0.9664\n",
      "Epoch 84/100\n",
      "100/100 [==============================] - 37s 365ms/step - loss: 0.0104 - acc: 0.9981 - val_loss: 0.2314 - val_acc: 0.9652\n",
      "Epoch 85/100\n",
      "100/100 [==============================] - 36s 362ms/step - loss: 0.0064 - acc: 0.9978 - val_loss: 0.2945 - val_acc: 0.9562\n",
      "Epoch 86/100\n",
      "100/100 [==============================] - 36s 363ms/step - loss: 0.0100 - acc: 0.9978 - val_loss: 0.1929 - val_acc: 0.9708\n",
      "Epoch 87/100\n",
      "100/100 [==============================] - 36s 363ms/step - loss: 0.0051 - acc: 0.9981 - val_loss: 0.3466 - val_acc: 0.9607\n",
      "Epoch 88/100\n",
      "100/100 [==============================] - 36s 362ms/step - loss: 0.0036 - acc: 0.9994 - val_loss: 0.3089 - val_acc: 0.9670\n",
      "Epoch 89/100\n",
      "100/100 [==============================] - 36s 363ms/step - loss: 0.0105 - acc: 0.9969 - val_loss: 0.2690 - val_acc: 0.9626\n",
      "Epoch 90/100\n",
      "100/100 [==============================] - 36s 362ms/step - loss: 0.0050 - acc: 0.9978 - val_loss: 0.2542 - val_acc: 0.9670\n",
      "Epoch 91/100\n",
      "100/100 [==============================] - 36s 363ms/step - loss: 0.0139 - acc: 0.9966 - val_loss: 0.2388 - val_acc: 0.9678\n",
      "Epoch 92/100\n",
      "100/100 [==============================] - 36s 362ms/step - loss: 0.0093 - acc: 0.9978 - val_loss: 0.3482 - val_acc: 0.9523\n",
      "Epoch 93/100\n",
      "100/100 [==============================] - 36s 363ms/step - loss: 0.0017 - acc: 0.9997 - val_loss: 0.2718 - val_acc: 0.9638\n",
      "Epoch 94/100\n",
      "100/100 [==============================] - 36s 363ms/step - loss: 0.0123 - acc: 0.9966 - val_loss: 0.2825 - val_acc: 0.9620\n",
      "Epoch 95/100\n",
      "100/100 [==============================] - 36s 362ms/step - loss: 0.0026 - acc: 0.9988 - val_loss: 0.2201 - val_acc: 0.9708\n",
      "Epoch 96/100\n",
      "100/100 [==============================] - 36s 363ms/step - loss: 0.0105 - acc: 0.9975 - val_loss: 0.2151 - val_acc: 0.9704\n",
      "Epoch 97/100\n",
      "100/100 [==============================] - 36s 362ms/step - loss: 0.0049 - acc: 0.9975 - val_loss: 0.3840 - val_acc: 0.9537\n",
      "Epoch 98/100\n",
      "100/100 [==============================] - 36s 361ms/step - loss: 0.0044 - acc: 0.9981 - val_loss: 0.2561 - val_acc: 0.9665\n",
      "Epoch 99/100\n",
      "100/100 [==============================] - 36s 363ms/step - loss: 0.0070 - acc: 0.9975 - val_loss: 0.2723 - val_acc: 0.9651\n",
      "Epoch 100/100\n",
      "100/100 [==============================] - 36s 362ms/step - loss: 0.0107 - acc: 0.9981 - val_loss: 0.2580 - val_acc: 0.9639\n"
     ]
    }
   ],
   "source": [
    "### Fitting the model using the Data Generator created\n",
    "\n",
    "history = model.fit_generator(train_generator,\n",
    "                             steps_per_epoch = 100,\n",
    "                             epochs = 100,\n",
    "                             validation_data = validation_generator,\n",
    "                             validation_steps = 50)"
   ]
  },
  {
   "cell_type": "code",
   "execution_count": 56,
   "metadata": {},
   "outputs": [],
   "source": [
    "def smooth_curve(points, factor = 0.8):\n",
    "    smoothed_points = []\n",
    "    for point in points:\n",
    "        if smoothed_points:\n",
    "            previous = smoothed_points[-1]\n",
    "            smoothed_points.append(previous*factor + point*(1-factor))\n",
    "        else:\n",
    "            smoothed_points.append(point)\n",
    "    return smoothed_points"
   ]
  },
  {
   "cell_type": "code",
   "execution_count": 57,
   "metadata": {},
   "outputs": [],
   "source": [
    "acc = history.history['acc']\n",
    "val_acc = history.history['val_acc']\n",
    "loss = history.history['loss']\n",
    "val_loss = history.history['val_loss']\n",
    "epochs = range(1, len(acc)+1)"
   ]
  },
  {
   "cell_type": "code",
   "execution_count": 58,
   "metadata": {},
   "outputs": [
    {
     "data": {
      "image/png": "[encoded data removed]",
      "text/plain": [
       "<Figure size 432x288 with 1 Axes>"
      ]
     },
     "metadata": {
      "needs_background": "light"
     },
     "output_type": "display_data"
    }
   ],
   "source": [
    "plt.plot(epochs, smooth_curve(acc), 'bo', label='Training Accuracy')\n",
    "plt.plot(epochs, smooth_curve(val_acc), 'b', label='Validation Accuracy')\n",
    "\n",
    "plt.title('Accuracy')\n",
    "plt.legend()\n",
    "plt.xlabel('Epochs')\n",
    "plt.ylabel('Accuracy')\n",
    "plt.show()"
   ]
  },
  {
   "cell_type": "code",
   "execution_count": 59,
   "metadata": {},
   "outputs": [
    {
     "data": {
      "image/png": "[encoded data removed]",
      "text/plain": [
       "<Figure size 432x288 with 1 Axes>"
      ]
     },
     "metadata": {
      "needs_background": "light"
     },
     "output_type": "display_data"
    }
   ],
   "source": [
    "plt.plot(epochs, smooth_curve(loss), 'bo', label='Training Loss')\n",
    "plt.plot(epochs, smooth_curve(val_loss), 'b', label='Validation Loss')\n",
    "\n",
    "\n",
    "plt.title('Losses')\n",
    "plt.legend()\n",
    "plt.xlabel('Epochs')\n",
    "plt.ylabel('Loss')\n",
    "plt.show()"
   ]
  },
  {
   "cell_type": "markdown",
   "metadata": {},
   "source": [
    "### It is quite clear that the model started overfitting after the 10th epoch. "
   ]
  },
  {
   "cell_type": "code",
   "execution_count": 61,
   "metadata": {},
   "outputs": [
    {
     "name": "stdout",
     "output_type": "stream",
     "text": [
      "Found 1000 images belonging to 2 classes.\n",
      "test_acc:  0.9709999930858612\n"
     ]
    }
   ],
   "source": [
    "test_generator = test_datagen.flow_from_directory(test_dir,\n",
    "                                                 target_size=(150,150),\n",
    "                                                 batch_size = 20,\n",
    "                                                 class_mode = 'binary')\n",
    "\n",
    "test_loss, test_acc = model.evaluate_generator(test_generator, steps=50)\n",
    "print('test_acc: ', test_acc)"
   ]
  },
  {
   "cell_type": "code",
   "execution_count": null,
   "metadata": {},
   "outputs": [],
   "source": []
  }
 ],
 "metadata": {
  "kernelspec": {
   "display_name": "Python 3",
   "language": "python",
   "name": "python3"
  },
  "language_info": {
   "codemirror_mode": {
    "name": "ipython",
    "version": 3
   },
   "file_extension": ".py",
   "mimetype": "text/x-python",
   "name": "python",
   "nbconvert_exporter": "python",
   "pygments_lexer": "ipython3",
   "version": "3.6.7"
  }
 },
 "nbformat": 4,
 "nbformat_minor": 2
}

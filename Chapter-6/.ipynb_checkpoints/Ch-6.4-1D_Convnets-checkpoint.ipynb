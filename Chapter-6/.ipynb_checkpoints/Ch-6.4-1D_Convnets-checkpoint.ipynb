{
 "cells": [
  {
   "cell_type": "markdown",
   "metadata": {},
   "source": [
    "-----------\n",
    "\n",
    "***1-D Conv Nets***\n",
    "\n",
    "-----------\n",
    "\n",
    "\n",
    "The concept used here is the same as the concept of 2D convnets for Image processing. The 2D convnets tries to capture the relation between the neighbouring pixels and then it can find that particular pattern anywhere in the image. \n",
    "\n",
    "Same is for 1D convnets and sequences. The 1D convnets would try to capture the relation between the neighbouring words in the kernal. \n",
    "\n",
    "Whatever we apply to 2D convnets is usually also translated to 1D convnets. The Max pooling for dimensionality reduction also works in the same way.\n",
    "\n",
    "Let's start with simple example on the IMDB data."
   ]
  },
  {
   "cell_type": "code",
   "execution_count": 33,
   "metadata": {},
   "outputs": [],
   "source": [
    "from keras.datasets import imdb\n",
    "from keras.preprocessing import sequence"
   ]
  },
  {
   "cell_type": "code",
   "execution_count": 34,
   "metadata": {},
   "outputs": [],
   "source": [
    "max_features = 10000\n",
    "max_len = 500"
   ]
  },
  {
   "cell_type": "code",
   "execution_count": 35,
   "metadata": {},
   "outputs": [],
   "source": [
    "(x_train, y_train), (x_test, y_test) = imdb.load_data(num_words = max_features)"
   ]
  },
  {
   "cell_type": "code",
   "execution_count": 36,
   "metadata": {},
   "outputs": [],
   "source": [
    "x_train = sequence.pad_sequences(x_train, maxlen = max_len)\n",
    "x_test = sequence.pad_sequences(x_test, maxlen = max_len)"
   ]
  },
  {
   "cell_type": "code",
   "execution_count": 37,
   "metadata": {},
   "outputs": [],
   "source": [
    "from keras.models import Sequential\n",
    "from keras import layers\n",
    "from keras.optimizers import RMSprop"
   ]
  },
  {
   "cell_type": "code",
   "execution_count": 38,
   "metadata": {},
   "outputs": [],
   "source": [
    "model = Sequential()\n",
    "model.add(layers.Embedding(max_features, 128, input_length = max_len))\n",
    "model.add(layers.Conv1D(32,7,activation = 'relu'))\n",
    "model.add(layers.MaxPooling1D(5))\n",
    "model.add(layers.Conv1D(32,7,activation = 'relu'))\n",
    "model.add(layers.GlobalMaxPooling1D())\n",
    "model.add(layers.Dense(1))"
   ]
  },
  {
   "cell_type": "code",
   "execution_count": 39,
   "metadata": {},
   "outputs": [
    {
     "name": "stdout",
     "output_type": "stream",
     "text": [
      "_________________________________________________________________\n",
      "Layer (type)                 Output Shape              Param #   \n",
      "=================================================================\n",
      "embedding_2 (Embedding)      (None, 500, 128)          1280000   \n",
      "_________________________________________________________________\n",
      "conv1d_9 (Conv1D)            (None, 494, 32)           28704     \n",
      "_________________________________________________________________\n",
      "max_pooling1d_6 (MaxPooling1 (None, 98, 32)            0         \n",
      "_________________________________________________________________\n",
      "conv1d_10 (Conv1D)           (None, 92, 32)            7200      \n",
      "_________________________________________________________________\n",
      "global_max_pooling1d_3 (Glob (None, 32)                0         \n",
      "_________________________________________________________________\n",
      "dense_3 (Dense)              (None, 1)                 33        \n",
      "=================================================================\n",
      "Total params: 1,315,937.0\n",
      "Trainable params: 1,315,937.0\n",
      "Non-trainable params: 0.0\n",
      "_________________________________________________________________\n"
     ]
    }
   ],
   "source": [
    "model.summary()"
   ]
  },
  {
   "cell_type": "code",
   "execution_count": 40,
   "metadata": {},
   "outputs": [],
   "source": [
    "model.compile(optimizer = RMSprop(lr = 1e-4), \n",
    "             loss = 'binary_crossentropy',\n",
    "             metrics = ['acc'])"
   ]
  },
  {
   "cell_type": "code",
   "execution_count": 41,
   "metadata": {},
   "outputs": [
    {
     "name": "stdout",
     "output_type": "stream",
     "text": [
      "Train on 20000 samples, validate on 5000 samples\n",
      "Epoch 1/10\n",
      "20000/20000 [==============================] - 2s - loss: 1.1321 - acc: 0.4955 - val_loss: 0.7018 - val_acc: 0.4966\n",
      "Epoch 2/10\n",
      "20000/20000 [==============================] - 2s - loss: 0.6925 - acc: 0.5226 - val_loss: 0.6837 - val_acc: 0.5556\n",
      "Epoch 3/10\n",
      "20000/20000 [==============================] - 2s - loss: 0.6650 - acc: 0.6061 - val_loss: 0.6485 - val_acc: 0.6196\n",
      "Epoch 4/10\n",
      "20000/20000 [==============================] - 2s - loss: 0.5969 - acc: 0.7126 - val_loss: 0.5632 - val_acc: 0.7076\n",
      "Epoch 5/10\n",
      "20000/20000 [==============================] - 2s - loss: 0.4910 - acc: 0.7893 - val_loss: 0.4810 - val_acc: 0.8024\n",
      "Epoch 6/10\n",
      "20000/20000 [==============================] - 2s - loss: 0.4288 - acc: 0.8294 - val_loss: 0.4681 - val_acc: 0.8254\n",
      "Epoch 7/10\n",
      "20000/20000 [==============================] - 2s - loss: 0.3829 - acc: 0.8474 - val_loss: 0.4685 - val_acc: 0.8318\n",
      "Epoch 8/10\n",
      "20000/20000 [==============================] - 2s - loss: 0.3535 - acc: 0.8582 - val_loss: 0.4597 - val_acc: 0.8334\n",
      "Epoch 9/10\n",
      "20000/20000 [==============================] - 2s - loss: 0.3337 - acc: 0.8545 - val_loss: 0.4552 - val_acc: 0.8282\n",
      "Epoch 10/10\n",
      "20000/20000 [==============================] - 2s - loss: 0.3098 - acc: 0.8523 - val_loss: 0.4799 - val_acc: 0.8094\n"
     ]
    }
   ],
   "source": [
    "history = model.fit(x_train, y_train, epochs = 10, batch_size = 128, validation_split = 0.2)"
   ]
  },
  {
   "cell_type": "markdown",
   "metadata": {},
   "source": [
    "The accuracy may not be as good as RNN but the computational complexity is very less compared to RNNs. So this can be used as a good computationally cheap replacement for RNNs. "
   ]
  },
  {
   "cell_type": "markdown",
   "metadata": {},
   "source": [
    "-----\n",
    "***Uploading the jenna data***\n",
    "\n",
    "-----"
   ]
  },
  {
   "cell_type": "code",
   "execution_count": 1,
   "metadata": {},
   "outputs": [],
   "source": [
    "### Downloading Dataset \n",
    "fname = '/home/yash/Datasets/jena_climate_2009_2016.csv'"
   ]
  },
  {
   "cell_type": "code",
   "execution_count": 2,
   "metadata": {},
   "outputs": [],
   "source": [
    "f = open(fname)\n",
    "data = f.read()\n",
    "f.close()"
   ]
  },
  {
   "cell_type": "code",
   "execution_count": 3,
   "metadata": {},
   "outputs": [],
   "source": [
    "lines = data.split('\\n')\n",
    "header = lines[0].split(',')"
   ]
  },
  {
   "cell_type": "code",
   "execution_count": 4,
   "metadata": {},
   "outputs": [],
   "source": [
    "lines = lines[1:]"
   ]
  },
  {
   "cell_type": "code",
   "execution_count": 5,
   "metadata": {},
   "outputs": [],
   "source": [
    "import numpy as np\n",
    "\n",
    "float_data = np.zeros((len(lines), len(header)-1))\n",
    "for i,line in enumerate(lines):\n",
    "    values = [float(x) for x in line.split(',')[1:]]\n",
    "    float_data[i,:] = values"
   ]
  },
  {
   "cell_type": "code",
   "execution_count": 6,
   "metadata": {},
   "outputs": [],
   "source": [
    "mean = float_data[:200000].mean(axis = 0)\n",
    "float_data -= mean\n",
    "std = float_data[:200000].std(axis=0)\n",
    "float_data /= std"
   ]
  },
  {
   "cell_type": "code",
   "execution_count": 7,
   "metadata": {},
   "outputs": [],
   "source": [
    "def generator(data, lookback, delay, min_index, max_index, shuffle = False, batch_size = 128, step = 6):\n",
    "    ### Defines the end of data as max_index \n",
    "    if max_index is None:\n",
    "        max_index = len(data) - delay - 1\n",
    "    ### The i is used as end point for data. So\n",
    "    i = min_index + lookback\n",
    "    while 1:\n",
    "        if shuffle:\n",
    "            rows = np.random.randint(min_index+lookback, max_index, size = batch_size)\n",
    "        else:\n",
    "            if i+batch_size >= max_index:\n",
    "                i = min_index + lookback\n",
    "            rows = np.arange(i, min(i+batch_size, max_index))\n",
    "            \n",
    "            i+=len(rows)\n",
    "        \n",
    "        samples = np.zeros((len(rows), lookback // step, data.shape[-1]))\n",
    "        targets = np.zeros((len(rows),))\n",
    "        \n",
    "        for j,row in enumerate(rows):\n",
    "            \n",
    "            ### lookback is subtracted as we added it earlier, also step is a \n",
    "            ### parameter of range function which will sample the indices\n",
    "            \n",
    "            indices = range(rows[j]-lookback, rows[j], step)\n",
    "            samples[j] = data[indices]\n",
    "            ### The target value from future\n",
    "            targets[j] = data[rows[j] + delay][1]\n",
    "        yield samples, targets"
   ]
  },
  {
   "cell_type": "code",
   "execution_count": 8,
   "metadata": {},
   "outputs": [],
   "source": [
    "lookback = 1440\n",
    "step = 6 \n",
    "delay = 144\n",
    "batch_size = 128"
   ]
  },
  {
   "cell_type": "code",
   "execution_count": 9,
   "metadata": {},
   "outputs": [],
   "source": [
    "train_gen = generator(float_data, \n",
    "                     lookback = lookback, \n",
    "                     delay = delay, \n",
    "                     min_index = 0,\n",
    "                     max_index = 200000,\n",
    "                     shuffle = True,\n",
    "                     step = step,\n",
    "                     batch_size = batch_size)"
   ]
  },
  {
   "cell_type": "code",
   "execution_count": 10,
   "metadata": {},
   "outputs": [],
   "source": [
    "val_gen = generator(float_data, \n",
    "                     lookback = lookback, \n",
    "                     delay = delay, \n",
    "                     min_index = 200001,\n",
    "                     max_index = 300000,\n",
    "                     step = step,\n",
    "                     batch_size = batch_size)"
   ]
  },
  {
   "cell_type": "code",
   "execution_count": 11,
   "metadata": {},
   "outputs": [],
   "source": [
    "test_gen = generator(float_data, \n",
    "                     lookback = lookback, \n",
    "                     delay = delay, \n",
    "                     min_index = 300001,\n",
    "                     max_index = None,\n",
    "                     step = step,\n",
    "                     batch_size = batch_size)"
   ]
  },
  {
   "cell_type": "code",
   "execution_count": 12,
   "metadata": {},
   "outputs": [],
   "source": [
    "val_steps = 300000 - 200001 - lookback"
   ]
  },
  {
   "cell_type": "code",
   "execution_count": 13,
   "metadata": {},
   "outputs": [],
   "source": [
    "test_steps = len(float_data) - 300001 - lookback"
   ]
  },
  {
   "cell_type": "markdown",
   "metadata": {},
   "source": [
    "------\n",
    "\n",
    "***1D Convnets on jenna dataset***\n",
    "\n",
    "------"
   ]
  },
  {
   "cell_type": "code",
   "execution_count": 24,
   "metadata": {},
   "outputs": [],
   "source": [
    "from keras.models import Sequential\n",
    "from keras import layers\n",
    "from keras.optimizers import RMSprop"
   ]
  },
  {
   "cell_type": "code",
   "execution_count": 26,
   "metadata": {},
   "outputs": [],
   "source": [
    "model = Sequential()\n",
    "model.add(layers.Conv1D(32,5,activation = 'relu', input_shape = (None, float_data.shape[-1])))\n",
    "model.add(layers.MaxPooling1D(3))\n",
    "model.add(layers.Conv1D(32,5,activation = 'relu'))\n",
    "model.add(layers.MaxPooling1D(3))\n",
    "model.add(layers.Conv1D(32,5,activation = 'relu'))\n",
    "model.add(layers.GlobalMaxPooling1D())\n",
    "model.add(layers.Dense(1))"
   ]
  },
  {
   "cell_type": "code",
   "execution_count": 27,
   "metadata": {},
   "outputs": [
    {
     "name": "stdout",
     "output_type": "stream",
     "text": [
      "_________________________________________________________________\n",
      "Layer (type)                 Output Shape              Param #   \n",
      "=================================================================\n",
      "conv1d_6 (Conv1D)            (None, None, 32)          2272      \n",
      "_________________________________________________________________\n",
      "max_pooling1d_4 (MaxPooling1 (None, None, 32)          0         \n",
      "_________________________________________________________________\n",
      "conv1d_7 (Conv1D)            (None, None, 32)          5152      \n",
      "_________________________________________________________________\n",
      "max_pooling1d_5 (MaxPooling1 (None, None, 32)          0         \n",
      "_________________________________________________________________\n",
      "conv1d_8 (Conv1D)            (None, None, 32)          5152      \n",
      "_________________________________________________________________\n",
      "global_max_pooling1d_2 (Glob (None, 32)                0         \n",
      "_________________________________________________________________\n",
      "dense_2 (Dense)              (None, 1)                 33        \n",
      "=================================================================\n",
      "Total params: 12,609.0\n",
      "Trainable params: 12,609.0\n",
      "Non-trainable params: 0.0\n",
      "_________________________________________________________________\n"
     ]
    }
   ],
   "source": [
    "model.summary()"
   ]
  },
  {
   "cell_type": "code",
   "execution_count": 28,
   "metadata": {},
   "outputs": [],
   "source": [
    "model.compile(optimizer = 'rmsprop', loss = 'mae')"
   ]
  },
  {
   "cell_type": "code",
   "execution_count": 29,
   "metadata": {},
   "outputs": [
    {
     "name": "stdout",
     "output_type": "stream",
     "text": [
      "Epoch 1/20\n",
      "500/500 [==============================] - 511s - loss: 0.4433 - val_loss: 0.4684\n",
      "Epoch 2/20\n",
      "500/500 [==============================] - 507s - loss: 0.4005 - val_loss: 0.4745\n",
      "Epoch 3/20\n",
      "500/500 [==============================] - 522s - loss: 0.3716 - val_loss: 0.4493\n",
      "Epoch 4/20\n",
      "500/500 [==============================] - 540s - loss: 0.3544 - val_loss: 0.4555\n",
      "Epoch 5/20\n",
      "500/500 [==============================] - 552s - loss: 0.3376 - val_loss: 0.4811\n",
      "Epoch 6/20\n",
      "500/500 [==============================] - 542s - loss: 0.3259 - val_loss: 0.4564\n",
      "Epoch 7/20\n",
      "500/500 [==============================] - 523s - loss: 0.3157 - val_loss: 0.4648\n",
      "Epoch 8/20\n",
      "500/500 [==============================] - 511s - loss: 0.3081 - val_loss: 0.4616\n",
      "Epoch 9/20\n",
      "500/500 [==============================] - 510s - loss: 0.3014 - val_loss: 0.4752\n",
      "Epoch 10/20\n",
      "500/500 [==============================] - 540s - loss: 0.2916 - val_loss: 0.4628\n",
      "Epoch 11/20\n",
      "500/500 [==============================] - 531s - loss: 0.2882 - val_loss: 0.4769\n",
      "Epoch 12/20\n",
      "500/500 [==============================] - 519s - loss: 0.2828 - val_loss: 0.4922\n",
      "Epoch 13/20\n",
      "500/500 [==============================] - 503s - loss: 0.2788 - val_loss: 0.4662\n",
      "Epoch 14/20\n",
      "500/500 [==============================] - 511s - loss: 0.2745 - val_loss: 0.4736\n",
      "Epoch 15/20\n",
      "500/500 [==============================] - 524s - loss: 0.2722 - val_loss: 0.4882\n",
      "Epoch 16/20\n",
      "500/500 [==============================] - 526s - loss: 0.2700 - val_loss: 0.5313\n",
      "Epoch 17/20\n",
      "500/500 [==============================] - 510s - loss: 0.2661 - val_loss: 0.4857\n",
      "Epoch 18/20\n",
      "500/500 [==============================] - 520s - loss: 0.2649 - val_loss: 0.4829\n",
      "Epoch 19/20\n",
      "500/500 [==============================] - 522s - loss: 0.2600 - val_loss: 0.4912\n",
      "Epoch 20/20\n",
      "500/500 [==============================] - 532s - loss: 0.2580 - val_loss: 0.4873\n"
     ]
    }
   ],
   "source": [
    "history = model.fit_generator(train_gen, steps_per_epoch = 500, epochs = 20, \n",
    "                              validation_data = val_gen, validation_steps = val_steps)"
   ]
  },
  {
   "cell_type": "code",
   "execution_count": 27,
   "metadata": {},
   "outputs": [],
   "source": [
    "%matplotlib inline\n",
    "import matplotlib.pyplot as plt"
   ]
  },
  {
   "cell_type": "code",
   "execution_count": 31,
   "metadata": {},
   "outputs": [],
   "source": [
    "loss = history.history['loss']\n",
    "val_loss = history.history['val_loss']\n",
    "epochs = range(1, len(loss)+1)"
   ]
  },
  {
   "cell_type": "code",
   "execution_count": 32,
   "metadata": {},
   "outputs": [
    {
     "data": {
      "image/png": "[encoded data removed]",
      "text/plain": [
       "<Figure size 432x288 with 1 Axes>"
      ]
     },
     "metadata": {
      "needs_background": "light"
     },
     "output_type": "display_data"
    }
   ],
   "source": [
    "plt.plot(epochs, loss, 'bo', label='Training Loss')\n",
    "plt.plot(epochs, val_loss, 'b', label='Validation Loss')\n",
    "\n",
    "\n",
    "plt.title('Losses')\n",
    "plt.legend()\n",
    "plt.xlabel('Epochs')\n",
    "plt.ylabel('Loss')\n",
    "plt.show()"
   ]
  },
  {
   "cell_type": "markdown",
   "metadata": {},
   "source": [
    "--------\n",
    "\n",
    "***Combining power of RNNs and 1D Convnets***\n",
    "\n",
    "---------\n",
    "\n",
    "This is usually done when we are dealing with sequences that are so large that it is very computationally expensive to use RNN's for processing them. Then the conv nets can be used which would reduce the dimensionality and then feed this to the RNN."
   ]
  },
  {
   "cell_type": "code",
   "execution_count": 14,
   "metadata": {},
   "outputs": [],
   "source": [
    "step = 3\n",
    "lookback = 720\n",
    "delay = 144"
   ]
  },
  {
   "cell_type": "code",
   "execution_count": 15,
   "metadata": {},
   "outputs": [],
   "source": [
    "train_gen = generator(float_data, \n",
    "                     lookback = lookback, \n",
    "                     delay = delay, \n",
    "                     min_index = 0,\n",
    "                     max_index = 200000,\n",
    "                     shuffle = True,\n",
    "                     step = step,\n",
    "                     batch_size = batch_size)"
   ]
  },
  {
   "cell_type": "code",
   "execution_count": 16,
   "metadata": {},
   "outputs": [],
   "source": [
    "val_gen = generator(float_data, \n",
    "                     lookback = lookback, \n",
    "                     delay = delay, \n",
    "                     min_index = 200001,\n",
    "                     max_index = 210000,\n",
    "                     step = step,\n",
    "                     batch_size = batch_size)"
   ]
  },
  {
   "cell_type": "code",
   "execution_count": 17,
   "metadata": {},
   "outputs": [],
   "source": [
    "test_gen = generator(float_data, \n",
    "                     lookback = lookback, \n",
    "                     delay = delay, \n",
    "                     min_index = 300001,\n",
    "                     max_index = None,\n",
    "                     step = step,\n",
    "                     batch_size = batch_size)"
   ]
  },
  {
   "cell_type": "code",
   "execution_count": 18,
   "metadata": {},
   "outputs": [],
   "source": [
    "val_steps = 210000 - 200001 - lookback"
   ]
  },
  {
   "cell_type": "code",
   "execution_count": 19,
   "metadata": {},
   "outputs": [],
   "source": [
    "test_steps = len(float_data) - 300001 - lookback"
   ]
  },
  {
   "cell_type": "code",
   "execution_count": 20,
   "metadata": {},
   "outputs": [
    {
     "name": "stderr",
     "output_type": "stream",
     "text": [
      "Using TensorFlow backend.\n"
     ]
    }
   ],
   "source": [
    "from keras.models import Sequential \n",
    "from keras import layers\n",
    "from keras.optimizers import RMSprop"
   ]
  },
  {
   "cell_type": "code",
   "execution_count": 21,
   "metadata": {},
   "outputs": [
    {
     "name": "stdout",
     "output_type": "stream",
     "text": [
      "WARNING:tensorflow:From /home/yash/anaconda3/envs/tf36/lib/python3.6/site-packages/keras/backend/tensorflow_backend.py:1044: calling reduce_sum (from tensorflow.python.ops.math_ops) with keep_dims is deprecated and will be removed in a future version.\n",
      "Instructions for updating:\n",
      "keep_dims is deprecated, use keepdims instead\n"
     ]
    }
   ],
   "source": [
    "model = Sequential()\n",
    "model.add(layers.Conv1D(32,5,activation = 'relu', input_shape = (None, float_data.shape[-1])))\n",
    "model.add(layers.MaxPooling1D(3))\n",
    "model.add(layers.Conv1D(32,5,activation = 'relu'))\n",
    "model.add(layers.GRU(32, dropout = 0.1, recurrent_dropout = 0.5))\n",
    "model.add(layers.Dense(1))"
   ]
  },
  {
   "cell_type": "code",
   "execution_count": 22,
   "metadata": {},
   "outputs": [
    {
     "name": "stdout",
     "output_type": "stream",
     "text": [
      "_________________________________________________________________\n",
      "Layer (type)                 Output Shape              Param #   \n",
      "=================================================================\n",
      "conv1d_1 (Conv1D)            (None, None, 32)          2272      \n",
      "_________________________________________________________________\n",
      "max_pooling1d_1 (MaxPooling1 (None, None, 32)          0         \n",
      "_________________________________________________________________\n",
      "conv1d_2 (Conv1D)            (None, None, 32)          5152      \n",
      "_________________________________________________________________\n",
      "gru_1 (GRU)                  (None, 32)                6240      \n",
      "_________________________________________________________________\n",
      "dense_1 (Dense)              (None, 1)                 33        \n",
      "=================================================================\n",
      "Total params: 13,697.0\n",
      "Trainable params: 13,697.0\n",
      "Non-trainable params: 0.0\n",
      "_________________________________________________________________\n"
     ]
    }
   ],
   "source": [
    "model.summary()"
   ]
  },
  {
   "cell_type": "code",
   "execution_count": 23,
   "metadata": {},
   "outputs": [
    {
     "name": "stdout",
     "output_type": "stream",
     "text": [
      "WARNING:tensorflow:From /home/yash/anaconda3/envs/tf36/lib/python3.6/site-packages/keras/backend/tensorflow_backend.py:1123: calling reduce_mean (from tensorflow.python.ops.math_ops) with keep_dims is deprecated and will be removed in a future version.\n",
      "Instructions for updating:\n",
      "keep_dims is deprecated, use keepdims instead\n"
     ]
    }
   ],
   "source": [
    "model.compile(optimizer = 'rmsprop', loss = 'mae')"
   ]
  },
  {
   "cell_type": "code",
   "execution_count": 24,
   "metadata": {},
   "outputs": [
    {
     "name": "stdout",
     "output_type": "stream",
     "text": [
      "Epoch 1/20\n",
      "500/500 [==============================] - 163s - loss: 0.3405 - val_loss: 0.2934\n",
      "Epoch 2/20\n",
      "500/500 [==============================] - 157s - loss: 0.3072 - val_loss: 0.2829\n",
      "Epoch 3/20\n",
      "500/500 [==============================] - 156s - loss: 0.3005 - val_loss: 0.2959\n",
      "Epoch 4/20\n",
      "500/500 [==============================] - 154s - loss: 0.2938 - val_loss: 0.2919\n",
      "Epoch 5/20\n",
      "500/500 [==============================] - 141s - loss: 0.2861 - val_loss: 0.3084\n",
      "Epoch 6/20\n",
      "500/500 [==============================] - 141s - loss: 0.2803 - val_loss: 0.2804\n",
      "Epoch 7/20\n",
      "500/500 [==============================] - 141s - loss: 0.2763 - val_loss: 0.2737\n",
      "Epoch 8/20\n",
      "500/500 [==============================] - 141s - loss: 0.2686 - val_loss: 0.2784\n",
      "Epoch 9/20\n",
      "500/500 [==============================] - 141s - loss: 0.2655 - val_loss: 0.2797\n",
      "Epoch 10/20\n",
      "500/500 [==============================] - 141s - loss: 0.2634 - val_loss: 0.2751\n",
      "Epoch 11/20\n",
      "500/500 [==============================] - 141s - loss: 0.2589 - val_loss: 0.2950\n",
      "Epoch 12/20\n",
      "500/500 [==============================] - 141s - loss: 0.2538 - val_loss: 0.2981\n",
      "Epoch 13/20\n",
      "500/500 [==============================] - 141s - loss: 0.2506 - val_loss: 0.2986\n",
      "Epoch 14/20\n",
      "500/500 [==============================] - 141s - loss: 0.2463 - val_loss: 0.3075\n",
      "Epoch 15/20\n",
      "500/500 [==============================] - 141s - loss: 0.2437 - val_loss: 0.3002\n",
      "Epoch 16/20\n",
      "500/500 [==============================] - 141s - loss: 0.2380 - val_loss: 0.3032\n",
      "Epoch 17/20\n",
      "500/500 [==============================] - 141s - loss: 0.2363 - val_loss: 0.2984\n",
      "Epoch 18/20\n",
      "500/500 [==============================] - 141s - loss: 0.2344 - val_loss: 0.3029\n",
      "Epoch 19/20\n",
      "500/500 [==============================] - 141s - loss: 0.2317 - val_loss: 0.3097\n",
      "Epoch 20/20\n",
      "500/500 [==============================] - 141s - loss: 0.2295 - val_loss: 0.3237\n"
     ]
    }
   ],
   "source": [
    "history = model.fit_generator(train_gen, steps_per_epoch = 500, epochs = 20, \n",
    "                              validation_data = val_gen, validation_steps = val_steps)"
   ]
  },
  {
   "cell_type": "code",
   "execution_count": 25,
   "metadata": {},
   "outputs": [],
   "source": [
    "loss = history.history['loss']\n",
    "val_loss = history.history['val_loss']\n",
    "epochs = range(1, len(loss)+1)"
   ]
  },
  {
   "cell_type": "code",
   "execution_count": 28,
   "metadata": {},
   "outputs": [
    {
     "data": {
      "image/png": "[encoded data removed]",
      "text/plain": [
       "<Figure size 432x288 with 1 Axes>"
      ]
     },
     "metadata": {
      "needs_background": "light"
     },
     "output_type": "display_data"
    }
   ],
   "source": [
    "plt.plot(epochs, loss, 'bo', label='Training Loss')\n",
    "plt.plot(epochs, val_loss, 'b', label='Validation Loss')\n",
    "\n",
    "\n",
    "plt.title('Losses')\n",
    "plt.legend()\n",
    "plt.xlabel('Epochs')\n",
    "plt.ylabel('Loss')\n",
    "plt.show()"
   ]
  },
  {
   "cell_type": "markdown",
   "metadata": {},
   "source": [
    "The above setup does not give better results than the LSTM setup we had. But this model looks at twice the data and is computationally very less expensive compared to the other model. Even though this might not work for this dataset, it might be useful when dealing with some other datasets. "
   ]
  },
  {
   "cell_type": "code",
   "execution_count": null,
   "metadata": {},
   "outputs": [],
   "source": []
  }
 ],
 "metadata": {
  "kernelspec": {
   "display_name": "Python 3",
   "language": "python",
   "name": "python3"
  },
  "language_info": {
   "codemirror_mode": {
    "name": "ipython",
    "version": 3
   },
   "file_extension": ".py",
   "mimetype": "text/x-python",
   "name": "python",
   "nbconvert_exporter": "python",
   "pygments_lexer": "ipython3",
   "version": "3.6.7"
  }
 },
 "nbformat": 4,
 "nbformat_minor": 2
}

{
 "cells": [
  {
   "cell_type": "markdown",
   "metadata": {},
   "source": [
    "### Recurrent Neural Networks\n",
    "\n",
    "Majority of the networks seen until now only worked on current input and did not take into account the previous inputs effect. (Or in other words the Networks did not have any memory). \n",
    "\n",
    "So, to train on temporal data all the data would have to been shown to the network at one. Like we did for IMDB data. These were feedforward dense networks. \n",
    "\n",
    "Whereas a RNN ,would have a memory of what has been seen till now and would process the sentences word by word rather than looking at the entire sentence at once. This is done by maintaining a state information which is related to what has been seen by the network till now. \n",
    "\n",
    "So, the data datapoint still remains the entire sentence but the network would now process the sentence word by word. \n",
    "\n",
    "So to understand the working of RNN better let us try to understand working using the basic psuedo code.\n",
    "\n",
    "```python\n",
    "state_t = 0 \n",
    "for input_t in input_sequence:\n",
    "    output_t = activation(dot(W,input_t) + dot(U,state_t) + b)\n",
    "    state_t = output_t\n",
    "```\n",
    "\n",
    "\n",
    "Here the input to the network is a 2D tensor whose dimensions are (timesteps, input_features). The RNN loops over all the timesteps and updates the value for the state at each timestamp and also outputs something based on what it has seen till then. \n",
    "\n",
    "In the above model the model decides the output based on the previous state, and current input.\n",
    "\n",
    "\n",
    "***THis is the Numpy implementation of simple RNN***"
   ]
  },
  {
   "cell_type": "code",
   "execution_count": 9,
   "metadata": {},
   "outputs": [],
   "source": [
    "import numpy as np \n",
    "\n",
    "timesteps = 100\n",
    "input_features = 32\n",
    "output_features = 64\n",
    "\n",
    "\n",
    "inputs = np.random.random((timesteps, input_features))\n",
    "state_t = np.zeros((output_features))\n",
    "\n",
    "W = np.random.random((output_features, input_features))\n",
    "U = np.random.random((output_features, output_features))\n",
    "b = np.random.random((output_features,))\n",
    "\n",
    "successive_outputs = []\n",
    "for input_t in inputs:\n",
    "    output_t = np.tanh(np.dot(W,input_t) + np.dot(U,state_t) + b)\n",
    "    successive_outputs.append(output_t)\n",
    "    state_t = output_t\n",
    "\n",
    "final_output_sequence = np.concatenate(successive_outputs, axis=0)"
   ]
  },
  {
   "cell_type": "markdown",
   "metadata": {},
   "source": [
    "---------\n",
    "\n",
    "***RNN In Keras***\n",
    "\n",
    "------\n",
    "\n",
    "The last implementation corresponds to the SimpleRNN available in Keras. With the same activation function and functionality. One small differnce is that that the SimpleRNN processes batches.\n",
    "\n",
    "**Inputs:** : (batch_size, timesteps, input_features)\n",
    "**Output:** : (batch_size, timesteps, output_features) or (batch_size, output_features)\n",
    "\n",
    "The above two can be set using the return_sequences constructor argument of SimpleRNN. In the second case the Model only outputs the final prediction rather than predictions at all timesteps. \n"
   ]
  },
  {
   "cell_type": "code",
   "execution_count": 10,
   "metadata": {},
   "outputs": [
    {
     "name": "stderr",
     "output_type": "stream",
     "text": [
      "Using TensorFlow backend.\n"
     ]
    }
   ],
   "source": [
    "from keras.models import Sequential\n",
    "from keras .layers import Embedding, SimpleRNN"
   ]
  },
  {
   "cell_type": "code",
   "execution_count": 11,
   "metadata": {},
   "outputs": [],
   "source": [
    "model = Sequential()\n",
    "model.add(Embedding(10000,32))\n",
    "model.add(SimpleRNN(32))"
   ]
  },
  {
   "cell_type": "code",
   "execution_count": 12,
   "metadata": {},
   "outputs": [
    {
     "name": "stdout",
     "output_type": "stream",
     "text": [
      "_________________________________________________________________\n",
      "Layer (type)                 Output Shape              Param #   \n",
      "=================================================================\n",
      "embedding_1 (Embedding)      (None, None, 32)          320000    \n",
      "_________________________________________________________________\n",
      "simple_rnn_1 (SimpleRNN)     (None, 32)                2080      \n",
      "=================================================================\n",
      "Total params: 322,080\n",
      "Trainable params: 322,080\n",
      "Non-trainable params: 0\n",
      "_________________________________________________________________\n"
     ]
    }
   ],
   "source": [
    "model.summary()"
   ]
  },
  {
   "cell_type": "code",
   "execution_count": 14,
   "metadata": {},
   "outputs": [],
   "source": [
    "model = Sequential()\n",
    "model.add(Embedding(10000,32))\n",
    "model.add(SimpleRNN(32, return_sequences = True))"
   ]
  },
  {
   "cell_type": "code",
   "execution_count": 15,
   "metadata": {},
   "outputs": [
    {
     "name": "stdout",
     "output_type": "stream",
     "text": [
      "_________________________________________________________________\n",
      "Layer (type)                 Output Shape              Param #   \n",
      "=================================================================\n",
      "embedding_3 (Embedding)      (None, None, 32)          320000    \n",
      "_________________________________________________________________\n",
      "simple_rnn_2 (SimpleRNN)     (None, None, 32)          2080      \n",
      "=================================================================\n",
      "Total params: 322,080\n",
      "Trainable params: 322,080\n",
      "Non-trainable params: 0\n",
      "_________________________________________________________________\n"
     ]
    }
   ],
   "source": [
    "model.summary()"
   ]
  },
  {
   "cell_type": "markdown",
   "metadata": {},
   "source": [
    "Sometimes it is beneficial to stack multiple RNN cells together. For that it is necessary to return the value of all the timestamps. "
   ]
  },
  {
   "cell_type": "code",
   "execution_count": 16,
   "metadata": {},
   "outputs": [],
   "source": [
    "model = Sequential()\n",
    "model.add(Embedding(10000,32))\n",
    "model.add(SimpleRNN(32, return_sequences = True))\n",
    "model.add(SimpleRNN(32, return_sequences = True))\n",
    "model.add(SimpleRNN(32, return_sequences = True))\n",
    "model.add(SimpleRNN(32))"
   ]
  },
  {
   "cell_type": "code",
   "execution_count": 17,
   "metadata": {},
   "outputs": [
    {
     "name": "stdout",
     "output_type": "stream",
     "text": [
      "_________________________________________________________________\n",
      "Layer (type)                 Output Shape              Param #   \n",
      "=================================================================\n",
      "embedding_4 (Embedding)      (None, None, 32)          320000    \n",
      "_________________________________________________________________\n",
      "simple_rnn_3 (SimpleRNN)     (None, None, 32)          2080      \n",
      "_________________________________________________________________\n",
      "simple_rnn_4 (SimpleRNN)     (None, None, 32)          2080      \n",
      "_________________________________________________________________\n",
      "simple_rnn_5 (SimpleRNN)     (None, None, 32)          2080      \n",
      "_________________________________________________________________\n",
      "simple_rnn_6 (SimpleRNN)     (None, 32)                2080      \n",
      "=================================================================\n",
      "Total params: 328,320\n",
      "Trainable params: 328,320\n",
      "Non-trainable params: 0\n",
      "_________________________________________________________________\n"
     ]
    }
   ],
   "source": [
    "model.summary()"
   ]
  },
  {
   "cell_type": "markdown",
   "metadata": {},
   "source": [
    "----------\n",
    "\n",
    "***SimpleRNN on IMDB Dataset***\n",
    "\n",
    "\n",
    "----------"
   ]
  },
  {
   "cell_type": "code",
   "execution_count": 18,
   "metadata": {},
   "outputs": [],
   "source": [
    "from keras.datasets import imdb\n",
    "from keras.preprocessing import sequence\n",
    "\n",
    "max_features = 10000\n",
    "maxlen = 500 \n",
    "batch_size = 32\n",
    "\n",
    "(input_train, y_train), (input_test, y_test) = imdb.load_data(num_words = max_features)\n",
    "input_train = sequence.pad_sequences(input_train, maxlen = maxlen)\n",
    "input_test = sequence.pad_sequences(input_test, maxlen = maxlen)"
   ]
  },
  {
   "cell_type": "code",
   "execution_count": 19,
   "metadata": {},
   "outputs": [],
   "source": [
    "from keras.layers import Dense\n",
    "\n",
    "model = Sequential()\n",
    "model.add(Embedding(max_features, 32))\n",
    "model.add(SimpleRNN(32))\n",
    "model.add(Dense(1, activation = 'sigmoid'))"
   ]
  },
  {
   "cell_type": "code",
   "execution_count": 20,
   "metadata": {},
   "outputs": [],
   "source": [
    "model.compile(optimizer = 'rmsprop', loss = 'binary_crossentropy', metrics = ['acc'])"
   ]
  },
  {
   "cell_type": "code",
   "execution_count": 21,
   "metadata": {},
   "outputs": [
    {
     "name": "stdout",
     "output_type": "stream",
     "text": [
      "Train on 20000 samples, validate on 5000 samples\n",
      "Epoch 1/10\n",
      "20000/20000 [==============================] - 17s 851us/step - loss: 0.6479 - acc: 0.6083 - val_loss: 0.5084 - val_acc: 0.7822\n",
      "Epoch 2/10\n",
      "20000/20000 [==============================] - 15s 769us/step - loss: 0.4207 - acc: 0.8192 - val_loss: 0.3954 - val_acc: 0.8318\n",
      "Epoch 3/10\n",
      "20000/20000 [==============================] - 15s 762us/step - loss: 0.3032 - acc: 0.8760 - val_loss: 0.3679 - val_acc: 0.8320\n",
      "Epoch 4/10\n",
      "20000/20000 [==============================] - 15s 756us/step - loss: 0.2290 - acc: 0.9113 - val_loss: 0.3958 - val_acc: 0.8456\n",
      "Epoch 5/10\n",
      "20000/20000 [==============================] - 15s 755us/step - loss: 0.1826 - acc: 0.9297 - val_loss: 0.4051 - val_acc: 0.8590\n",
      "Epoch 6/10\n",
      "20000/20000 [==============================] - 15s 759us/step - loss: 0.1289 - acc: 0.9557 - val_loss: 0.4026 - val_acc: 0.8490\n",
      "Epoch 7/10\n",
      "20000/20000 [==============================] - 15s 760us/step - loss: 0.0893 - acc: 0.9698 - val_loss: 0.5444 - val_acc: 0.8344\n",
      "Epoch 8/10\n",
      "20000/20000 [==============================] - 15s 759us/step - loss: 0.0558 - acc: 0.9823 - val_loss: 0.5336 - val_acc: 0.8212\n",
      "Epoch 9/10\n",
      "20000/20000 [==============================] - 15s 771us/step - loss: 0.0327 - acc: 0.9910 - val_loss: 0.6071 - val_acc: 0.8056\n",
      "Epoch 10/10\n",
      "20000/20000 [==============================] - 15s 772us/step - loss: 0.0347 - acc: 0.9901 - val_loss: 0.6963 - val_acc: 0.7928\n"
     ]
    }
   ],
   "source": [
    "history = model.fit(input_train, y_train, epochs = 10, batch_size = 128, validation_split = 0.2)"
   ]
  },
  {
   "cell_type": "code",
   "execution_count": 22,
   "metadata": {},
   "outputs": [],
   "source": [
    "%matplotlib inline\n",
    "import matplotlib.pyplot as plt"
   ]
  },
  {
   "cell_type": "code",
   "execution_count": 23,
   "metadata": {},
   "outputs": [],
   "source": [
    "acc = history.history['acc']\n",
    "val_acc = history.history['val_acc']\n",
    "loss = history.history['loss']\n",
    "val_loss = history.history['val_loss']\n",
    "epochs = range(1, len(acc)+1)"
   ]
  },
  {
   "cell_type": "code",
   "execution_count": 24,
   "metadata": {},
   "outputs": [
    {
     "data": {
      "image/png": "[encoded data removed]",
      "text/plain": [
       "<Figure size 432x288 with 1 Axes>"
      ]
     },
     "metadata": {
      "needs_background": "light"
     },
     "output_type": "display_data"
    }
   ],
   "source": [
    "plt.plot(epochs, acc, 'bo', label='Training Accuracy')\n",
    "plt.plot(epochs, val_acc, 'b', label='Validation Accuracy')\n",
    "\n",
    "plt.title('Accuracy')\n",
    "plt.legend()\n",
    "plt.xlabel('Epochs')\n",
    "plt.ylabel('Accuracy')\n",
    "plt.show()"
   ]
  },
  {
   "cell_type": "code",
   "execution_count": 25,
   "metadata": {},
   "outputs": [
    {
     "data": {
      "image/png": "[encoded data removed]",
      "text/plain": [
       "<Figure size 432x288 with 1 Axes>"
      ]
     },
     "metadata": {
      "needs_background": "light"
     },
     "output_type": "display_data"
    }
   ],
   "source": [
    "plt.plot(epochs, loss, 'bo', label='Training Loss')\n",
    "plt.plot(epochs, val_loss, 'b', label='Validation Loss')\n",
    "\n",
    "\n",
    "plt.title('Losses')\n",
    "plt.legend()\n",
    "plt.xlabel('Epochs')\n",
    "plt.ylabel('Loss')\n",
    "plt.show()"
   ]
  },
  {
   "cell_type": "markdown",
   "metadata": {},
   "source": [
    "The model performance is not well compared to the Dense Model which we used in the Chapter 3. The two important reasons for that are - \n",
    "\n",
    "1. SimpleRNN does not perform very well for text data. There are other RNN's available which perform data. \n",
    "2. We clipped the sequences at 500, this also caused the loss of data. \n",
    "\n",
    "***Drawbacks of SimpleRNN***\n",
    "\n",
    "The simple RNN suffers from ***vanishing gradient problem***. As we move across the timesteps the model forgets the old timestamps. This is because during backpropogation the gradient while backpropogation becomes so small that it is not able to update the weights. \n",
    "\n",
    "To tackle this issue two varients of RNN were introduces, ***GRU's and LSTM.***"
   ]
  },
  {
   "cell_type": "markdown",
   "metadata": {},
   "source": []
  }
 ],
 "metadata": {
  "kernelspec": {
   "display_name": "Python 3",
   "language": "python",
   "name": "python3"
  },
  "language_info": {
   "codemirror_mode": {
    "name": "ipython",
    "version": 3
   },
   "file_extension": ".py",
   "mimetype": "text/x-python",
   "name": "python",
   "nbconvert_exporter": "python",
   "pygments_lexer": "ipython3",
   "version": "3.6.7"
  }
 },
 "nbformat": 4,
 "nbformat_minor": 2
}
